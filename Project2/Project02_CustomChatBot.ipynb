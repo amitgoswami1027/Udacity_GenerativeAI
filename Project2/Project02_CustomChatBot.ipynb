{
 "cells": [
  {
   "cell_type": "markdown",
   "id": "124e5672",
   "metadata": {},
   "source": [
    "# Custom Chatbot Project"
   ]
  },
  {
   "cell_type": "markdown",
   "id": "2a4a94b3",
   "metadata": {},
   "source": [
    "# 1. Choose a Dataset and Explain the Scenario\n",
    "\n",
    "TODO: In this cell, write an explanation of which dataset you have chosen and why it is appropriate for this task\n",
    "### Dataset: 2023_fashion_trends.csv\n",
    "\n",
    "* I will be using the datasets provided by Udacity in the instructions : \"2023_fashion_trends.csv\" - This file contains reports and quotes about fashion trends for 2023. Each row includes the source URL, article title, and text snippet.\n",
    "* I will demonstrate the use of custom dataset with an LLM.\n",
    "* It is known that  OpenAI model \"gpt-3.5-turbo-instruct\" has the knowledge only till year 2021.\n",
    "* If we make use of fashion_trends dataset provided by Udacity under /data folder, this data is till 2023. So we would be able to demonstrate that this data can help to augment the knowledge of LLM \"gpt-3.5-turbo-instruct\" by making use of the technique learnt i.e RAG (Retrival Augmentation Generation)\n"
   ]
  },
  {
   "cell_type": "markdown",
   "id": "8fe24d5c",
   "metadata": {},
   "source": [
    "# 2. Prepare the Dataset for the Custom Query Process\n",
    "TODO: In the cells below, load your chosen dataset into a pandas dataframe with a column named \"text\". This column should contain all of your text data, separated into at least 20 rows."
   ]
  },
  {
   "cell_type": "code",
   "execution_count": 177,
   "id": "c69b83a1",
   "metadata": {},
   "outputs": [],
   "source": [
    "import pandas as pd"
   ]
  },
  {
   "cell_type": "code",
   "execution_count": 178,
   "id": "7e9cd5b0",
   "metadata": {},
   "outputs": [
    {
     "name": "stdout",
     "output_type": "stream",
     "text": [
      "<class 'pandas.core.frame.DataFrame'>\n",
      "RangeIndex: 82 entries, 0 to 81\n",
      "Data columns (total 3 columns):\n",
      " #   Column  Non-Null Count  Dtype \n",
      "---  ------  --------------  ----- \n",
      " 0   URL     82 non-null     object\n",
      " 1   Trends  82 non-null     object\n",
      " 2   Source  82 non-null     object\n",
      "dtypes: object(3)\n",
      "memory usage: 2.0+ KB\n"
     ]
    }
   ],
   "source": [
    "df = pd.read_csv('data/2023_fashion_trends.csv')\n",
    "df.info()\n"
   ]
  },
  {
   "cell_type": "code",
   "execution_count": 179,
   "id": "0a1f54b5",
   "metadata": {},
   "outputs": [
    {
     "data": {
      "text/html": [
       "<div>\n",
       "<style scoped>\n",
       "    .dataframe tbody tr th:only-of-type {\n",
       "        vertical-align: middle;\n",
       "    }\n",
       "\n",
       "    .dataframe tbody tr th {\n",
       "        vertical-align: top;\n",
       "    }\n",
       "\n",
       "    .dataframe thead th {\n",
       "        text-align: right;\n",
       "    }\n",
       "</style>\n",
       "<table border=\"1\" class=\"dataframe\">\n",
       "  <thead>\n",
       "    <tr style=\"text-align: right;\">\n",
       "      <th></th>\n",
       "      <th>URL</th>\n",
       "      <th>Trends</th>\n",
       "      <th>Source</th>\n",
       "    </tr>\n",
       "  </thead>\n",
       "  <tbody>\n",
       "    <tr>\n",
       "      <th>count</th>\n",
       "      <td>82</td>\n",
       "      <td>82</td>\n",
       "      <td>82</td>\n",
       "    </tr>\n",
       "    <tr>\n",
       "      <th>unique</th>\n",
       "      <td>5</td>\n",
       "      <td>82</td>\n",
       "      <td>5</td>\n",
       "    </tr>\n",
       "    <tr>\n",
       "      <th>top</th>\n",
       "      <td>https://www.whowhatwear.com/spring-summer-2023...</td>\n",
       "      <td>2023 Fashion Trend: Red. Glossy red hues took ...</td>\n",
       "      <td>Spring/Summer 2023 Fashion Trends: 21 Expert-A...</td>\n",
       "    </tr>\n",
       "    <tr>\n",
       "      <th>freq</th>\n",
       "      <td>42</td>\n",
       "      <td>1</td>\n",
       "      <td>42</td>\n",
       "    </tr>\n",
       "  </tbody>\n",
       "</table>\n",
       "</div>"
      ],
      "text/plain": [
       "                                                      URL  \\\n",
       "count                                                  82   \n",
       "unique                                                  5   \n",
       "top     https://www.whowhatwear.com/spring-summer-2023...   \n",
       "freq                                                   42   \n",
       "\n",
       "                                                   Trends  \\\n",
       "count                                                  82   \n",
       "unique                                                 82   \n",
       "top     2023 Fashion Trend: Red. Glossy red hues took ...   \n",
       "freq                                                    1   \n",
       "\n",
       "                                                   Source  \n",
       "count                                                  82  \n",
       "unique                                                  5  \n",
       "top     Spring/Summer 2023 Fashion Trends: 21 Expert-A...  \n",
       "freq                                                   42  "
      ]
     },
     "execution_count": 179,
     "metadata": {},
     "output_type": "execute_result"
    }
   ],
   "source": [
    "df.describe()"
   ]
  },
  {
   "cell_type": "code",
   "execution_count": 180,
   "id": "d92e5efa",
   "metadata": {},
   "outputs": [
    {
     "data": {
      "text/html": [
       "<div>\n",
       "<style scoped>\n",
       "    .dataframe tbody tr th:only-of-type {\n",
       "        vertical-align: middle;\n",
       "    }\n",
       "\n",
       "    .dataframe tbody tr th {\n",
       "        vertical-align: top;\n",
       "    }\n",
       "\n",
       "    .dataframe thead th {\n",
       "        text-align: right;\n",
       "    }\n",
       "</style>\n",
       "<table border=\"1\" class=\"dataframe\">\n",
       "  <thead>\n",
       "    <tr style=\"text-align: right;\">\n",
       "      <th></th>\n",
       "      <th>URL</th>\n",
       "      <th>Trends</th>\n",
       "      <th>Source</th>\n",
       "    </tr>\n",
       "  </thead>\n",
       "  <tbody>\n",
       "    <tr>\n",
       "      <th>0</th>\n",
       "      <td>https://www.refinery29.com/en-us/fashion-trend...</td>\n",
       "      <td>2023 Fashion Trend: Red. Glossy red hues took ...</td>\n",
       "      <td>7 Fashion Trends That Will Take Over 2023 — Sh...</td>\n",
       "    </tr>\n",
       "    <tr>\n",
       "      <th>1</th>\n",
       "      <td>https://www.refinery29.com/en-us/fashion-trend...</td>\n",
       "      <td>2023 Fashion Trend: Cargo Pants. Utilitarian w...</td>\n",
       "      <td>7 Fashion Trends That Will Take Over 2023 — Sh...</td>\n",
       "    </tr>\n",
       "    <tr>\n",
       "      <th>2</th>\n",
       "      <td>https://www.refinery29.com/en-us/fashion-trend...</td>\n",
       "      <td>2023 Fashion Trend: Sheer Clothing. \"Bare it a...</td>\n",
       "      <td>7 Fashion Trends That Will Take Over 2023 — Sh...</td>\n",
       "    </tr>\n",
       "    <tr>\n",
       "      <th>3</th>\n",
       "      <td>https://www.refinery29.com/en-us/fashion-trend...</td>\n",
       "      <td>2023 Fashion Trend: Denim Reimagined. From dou...</td>\n",
       "      <td>7 Fashion Trends That Will Take Over 2023 — Sh...</td>\n",
       "    </tr>\n",
       "    <tr>\n",
       "      <th>4</th>\n",
       "      <td>https://www.refinery29.com/en-us/fashion-trend...</td>\n",
       "      <td>2023 Fashion Trend: Shine For The Daytime. The...</td>\n",
       "      <td>7 Fashion Trends That Will Take Over 2023 — Sh...</td>\n",
       "    </tr>\n",
       "  </tbody>\n",
       "</table>\n",
       "</div>"
      ],
      "text/plain": [
       "                                                 URL  \\\n",
       "0  https://www.refinery29.com/en-us/fashion-trend...   \n",
       "1  https://www.refinery29.com/en-us/fashion-trend...   \n",
       "2  https://www.refinery29.com/en-us/fashion-trend...   \n",
       "3  https://www.refinery29.com/en-us/fashion-trend...   \n",
       "4  https://www.refinery29.com/en-us/fashion-trend...   \n",
       "\n",
       "                                              Trends  \\\n",
       "0  2023 Fashion Trend: Red. Glossy red hues took ...   \n",
       "1  2023 Fashion Trend: Cargo Pants. Utilitarian w...   \n",
       "2  2023 Fashion Trend: Sheer Clothing. \"Bare it a...   \n",
       "3  2023 Fashion Trend: Denim Reimagined. From dou...   \n",
       "4  2023 Fashion Trend: Shine For The Daytime. The...   \n",
       "\n",
       "                                              Source  \n",
       "0  7 Fashion Trends That Will Take Over 2023 — Sh...  \n",
       "1  7 Fashion Trends That Will Take Over 2023 — Sh...  \n",
       "2  7 Fashion Trends That Will Take Over 2023 — Sh...  \n",
       "3  7 Fashion Trends That Will Take Over 2023 — Sh...  \n",
       "4  7 Fashion Trends That Will Take Over 2023 — Sh...  "
      ]
     },
     "execution_count": 180,
     "metadata": {},
     "output_type": "execute_result"
    }
   ],
   "source": [
    "df.head()"
   ]
  },
  {
   "cell_type": "code",
   "execution_count": 181,
   "id": "a75bf8dd",
   "metadata": {},
   "outputs": [
    {
     "name": "stdout",
     "output_type": "stream",
     "text": [
      "https://www.refinery29.com/en-us/fashion-trends-2023\n",
      "2023 Fashion Trend: Red. Glossy red hues took over the Fall 2023 runways ranging from Sandy Liang and PatBo to Tory Burch and Wiederhoeft. Think: Juicy reds with vibrant orange undertones that would look just as good in head-to-toe looks (see: a pantsuit) as accent accessory pieces (shoes, handbags, jewelry).\n",
      "7 Fashion Trends That Will Take Over 2023 — Shop Them Now\n"
     ]
    }
   ],
   "source": [
    "print(df.iloc[0][\"URL\"])\n",
    "print(df.iloc[0][\"Trends\"])\n",
    "print(df.iloc[0][\"Source\"])"
   ]
  },
  {
   "cell_type": "code",
   "execution_count": 182,
   "id": "47dc91df",
   "metadata": {},
   "outputs": [
    {
     "name": "stdout",
     "output_type": "stream",
     "text": [
      "<class 'pandas.core.frame.DataFrame'>\n",
      "RangeIndex: 82 entries, 0 to 81\n",
      "Data columns (total 4 columns):\n",
      " #   Column  Non-Null Count  Dtype \n",
      "---  ------  --------------  ----- \n",
      " 0   URL     82 non-null     object\n",
      " 1   Trends  82 non-null     object\n",
      " 2   Source  82 non-null     object\n",
      " 3   text    82 non-null     object\n",
      "dtypes: object(4)\n",
      "memory usage: 2.7+ KB\n"
     ]
    }
   ],
   "source": [
    "df[\"text\"] = df[\"Trends\"]\n",
    "df.info()"
   ]
  },
  {
   "cell_type": "code",
   "execution_count": 183,
   "id": "018e3add",
   "metadata": {},
   "outputs": [
    {
     "data": {
      "text/html": [
       "<div>\n",
       "<style scoped>\n",
       "    .dataframe tbody tr th:only-of-type {\n",
       "        vertical-align: middle;\n",
       "    }\n",
       "\n",
       "    .dataframe tbody tr th {\n",
       "        vertical-align: top;\n",
       "    }\n",
       "\n",
       "    .dataframe thead th {\n",
       "        text-align: right;\n",
       "    }\n",
       "</style>\n",
       "<table border=\"1\" class=\"dataframe\">\n",
       "  <thead>\n",
       "    <tr style=\"text-align: right;\">\n",
       "      <th></th>\n",
       "      <th>URL</th>\n",
       "      <th>Trends</th>\n",
       "      <th>Source</th>\n",
       "      <th>text</th>\n",
       "    </tr>\n",
       "  </thead>\n",
       "  <tbody>\n",
       "    <tr>\n",
       "      <th>0</th>\n",
       "      <td>https://www.refinery29.com/en-us/fashion-trend...</td>\n",
       "      <td>2023 Fashion Trend: Red. Glossy red hues took ...</td>\n",
       "      <td>7 Fashion Trends That Will Take Over 2023 — Sh...</td>\n",
       "      <td>2023 Fashion Trend: Red. Glossy red hues took ...</td>\n",
       "    </tr>\n",
       "    <tr>\n",
       "      <th>1</th>\n",
       "      <td>https://www.refinery29.com/en-us/fashion-trend...</td>\n",
       "      <td>2023 Fashion Trend: Cargo Pants. Utilitarian w...</td>\n",
       "      <td>7 Fashion Trends That Will Take Over 2023 — Sh...</td>\n",
       "      <td>2023 Fashion Trend: Cargo Pants. Utilitarian w...</td>\n",
       "    </tr>\n",
       "    <tr>\n",
       "      <th>2</th>\n",
       "      <td>https://www.refinery29.com/en-us/fashion-trend...</td>\n",
       "      <td>2023 Fashion Trend: Sheer Clothing. \"Bare it a...</td>\n",
       "      <td>7 Fashion Trends That Will Take Over 2023 — Sh...</td>\n",
       "      <td>2023 Fashion Trend: Sheer Clothing. \"Bare it a...</td>\n",
       "    </tr>\n",
       "    <tr>\n",
       "      <th>3</th>\n",
       "      <td>https://www.refinery29.com/en-us/fashion-trend...</td>\n",
       "      <td>2023 Fashion Trend: Denim Reimagined. From dou...</td>\n",
       "      <td>7 Fashion Trends That Will Take Over 2023 — Sh...</td>\n",
       "      <td>2023 Fashion Trend: Denim Reimagined. From dou...</td>\n",
       "    </tr>\n",
       "    <tr>\n",
       "      <th>4</th>\n",
       "      <td>https://www.refinery29.com/en-us/fashion-trend...</td>\n",
       "      <td>2023 Fashion Trend: Shine For The Daytime. The...</td>\n",
       "      <td>7 Fashion Trends That Will Take Over 2023 — Sh...</td>\n",
       "      <td>2023 Fashion Trend: Shine For The Daytime. The...</td>\n",
       "    </tr>\n",
       "  </tbody>\n",
       "</table>\n",
       "</div>"
      ],
      "text/plain": [
       "                                                 URL  \\\n",
       "0  https://www.refinery29.com/en-us/fashion-trend...   \n",
       "1  https://www.refinery29.com/en-us/fashion-trend...   \n",
       "2  https://www.refinery29.com/en-us/fashion-trend...   \n",
       "3  https://www.refinery29.com/en-us/fashion-trend...   \n",
       "4  https://www.refinery29.com/en-us/fashion-trend...   \n",
       "\n",
       "                                              Trends  \\\n",
       "0  2023 Fashion Trend: Red. Glossy red hues took ...   \n",
       "1  2023 Fashion Trend: Cargo Pants. Utilitarian w...   \n",
       "2  2023 Fashion Trend: Sheer Clothing. \"Bare it a...   \n",
       "3  2023 Fashion Trend: Denim Reimagined. From dou...   \n",
       "4  2023 Fashion Trend: Shine For The Daytime. The...   \n",
       "\n",
       "                                              Source  \\\n",
       "0  7 Fashion Trends That Will Take Over 2023 — Sh...   \n",
       "1  7 Fashion Trends That Will Take Over 2023 — Sh...   \n",
       "2  7 Fashion Trends That Will Take Over 2023 — Sh...   \n",
       "3  7 Fashion Trends That Will Take Over 2023 — Sh...   \n",
       "4  7 Fashion Trends That Will Take Over 2023 — Sh...   \n",
       "\n",
       "                                                text  \n",
       "0  2023 Fashion Trend: Red. Glossy red hues took ...  \n",
       "1  2023 Fashion Trend: Cargo Pants. Utilitarian w...  \n",
       "2  2023 Fashion Trend: Sheer Clothing. \"Bare it a...  \n",
       "3  2023 Fashion Trend: Denim Reimagined. From dou...  \n",
       "4  2023 Fashion Trend: Shine For The Daytime. The...  "
      ]
     },
     "execution_count": 183,
     "metadata": {},
     "output_type": "execute_result"
    }
   ],
   "source": [
    "df.head()"
   ]
  },
  {
   "cell_type": "code",
   "execution_count": 184,
   "id": "c1aa13c3",
   "metadata": {},
   "outputs": [
    {
     "data": {
      "text/html": [
       "<div>\n",
       "<style scoped>\n",
       "    .dataframe tbody tr th:only-of-type {\n",
       "        vertical-align: middle;\n",
       "    }\n",
       "\n",
       "    .dataframe tbody tr th {\n",
       "        vertical-align: top;\n",
       "    }\n",
       "\n",
       "    .dataframe thead th {\n",
       "        text-align: right;\n",
       "    }\n",
       "</style>\n",
       "<table border=\"1\" class=\"dataframe\">\n",
       "  <thead>\n",
       "    <tr style=\"text-align: right;\">\n",
       "      <th></th>\n",
       "      <th>text</th>\n",
       "    </tr>\n",
       "  </thead>\n",
       "  <tbody>\n",
       "    <tr>\n",
       "      <th>0</th>\n",
       "      <td>2023 Fashion Trend: Red. Glossy red hues took ...</td>\n",
       "    </tr>\n",
       "    <tr>\n",
       "      <th>1</th>\n",
       "      <td>2023 Fashion Trend: Cargo Pants. Utilitarian w...</td>\n",
       "    </tr>\n",
       "    <tr>\n",
       "      <th>2</th>\n",
       "      <td>2023 Fashion Trend: Sheer Clothing. \"Bare it a...</td>\n",
       "    </tr>\n",
       "    <tr>\n",
       "      <th>3</th>\n",
       "      <td>2023 Fashion Trend: Denim Reimagined. From dou...</td>\n",
       "    </tr>\n",
       "    <tr>\n",
       "      <th>4</th>\n",
       "      <td>2023 Fashion Trend: Shine For The Daytime. The...</td>\n",
       "    </tr>\n",
       "  </tbody>\n",
       "</table>\n",
       "</div>"
      ],
      "text/plain": [
       "                                                text\n",
       "0  2023 Fashion Trend: Red. Glossy red hues took ...\n",
       "1  2023 Fashion Trend: Cargo Pants. Utilitarian w...\n",
       "2  2023 Fashion Trend: Sheer Clothing. \"Bare it a...\n",
       "3  2023 Fashion Trend: Denim Reimagined. From dou...\n",
       "4  2023 Fashion Trend: Shine For The Daytime. The..."
      ]
     },
     "execution_count": 184,
     "metadata": {},
     "output_type": "execute_result"
    }
   ],
   "source": [
    "df = df.drop([\"URL\", \"Trends\", \"Source\"], axis=1)\n",
    "df.head()"
   ]
  },
  {
   "cell_type": "markdown",
   "id": "ae769871",
   "metadata": {},
   "source": [
    "# 3. Perform the Custom Query Process\n",
    "\n",
    "TODO: In the cells below, compose a custom query using your chosen dataset and retrieve results from an OpenAI `Completion` model. You may copy and paste any useful code from the course materials."
   ]
  },
  {
   "cell_type": "code",
   "execution_count": 185,
   "id": "2c17991a",
   "metadata": {},
   "outputs": [],
   "source": [
    "import openai\n",
    "openai.api_base = \"https://openai.vocareum.com/v1\"\n",
    "openai.api_key=\"\""
   ]
  },
  {
   "cell_type": "markdown",
   "id": "51454f24",
   "metadata": {},
   "source": [
    "### a. Send the query to the LLM without using the custom fashion trends data"
   ]
  },
  {
   "cell_type": "code",
   "execution_count": 186,
   "id": "7db8b3e3",
   "metadata": {},
   "outputs": [
    {
     "name": "stdout",
     "output_type": "stream",
     "text": [
      "Some current fashion trends in the market include:\n",
      "1. Sustainable and eco-friendly fashion: There has been a growing trend towards ethical and sustainable fashion, with more and more consumers seeking out brands that use environmentally friendly materials and production methods.\n",
      "\n",
      "2. Nostalgic fashion: Nostalgia is a major trend in fashion, with many designers bringing back styles and trends from past decades, such as 70s inspired prints, 80s silhouettes, and 90s grunge.\n",
      "\n",
      "3. Bold colors and patterns: Bright and bold colors and patterns are making a comeback in the fashion world. From neon hues to graphic prints, these eye-catching styles are popular among fashion influencers and trendsetters.\n",
      "\n",
      "4. Athleisure: The trend\n"
     ]
    }
   ],
   "source": [
    "query1 = \"\"\"\n",
    "\"Tell me about the current fashion trends in the market\"\n",
    "\n",
    "\"\"\"\n",
    "initial_answer = openai.Completion.create(\n",
    "    model=\"gpt-3.5-turbo-instruct\",\n",
    "    prompt=query1,\n",
    "    max_tokens=150\n",
    ")[\"choices\"][0][\"text\"].strip()\n",
    "print(initial_answer)"
   ]
  },
  {
   "cell_type": "code",
   "execution_count": 187,
   "id": "48086ebd",
   "metadata": {},
   "outputs": [
    {
     "name": "stdout",
     "output_type": "stream",
     "text": [
      "I am an AI and do not have personal opinions, but many people enjoy using animal prints in fashion and decor for their bold and unique look. Some may find them stylish and trendy, while others may not be as fond of them. Ultimately, it is a matter of personal preference.\n"
     ]
    }
   ],
   "source": [
    "query2 = \"\"\"\n",
    "\"What do you think about the animal prints?\"\n",
    "\n",
    "\"\"\"\n",
    "initial_answer2 = openai.Completion.create(\n",
    "    model=\"gpt-3.5-turbo-instruct\",\n",
    "    prompt=query2,\n",
    "    max_tokens=150\n",
    ")[\"choices\"][0][\"text\"].strip()\n",
    "print(initial_answer2)"
   ]
  },
  {
   "cell_type": "markdown",
   "id": "52cc3a6a",
   "metadata": {},
   "source": [
    "## b. Generate Embeddings "
   ]
  },
  {
   "cell_type": "code",
   "execution_count": 188,
   "id": "04857c20",
   "metadata": {},
   "outputs": [
    {
     "data": {
      "text/html": [
       "<div>\n",
       "<style scoped>\n",
       "    .dataframe tbody tr th:only-of-type {\n",
       "        vertical-align: middle;\n",
       "    }\n",
       "\n",
       "    .dataframe tbody tr th {\n",
       "        vertical-align: top;\n",
       "    }\n",
       "\n",
       "    .dataframe thead th {\n",
       "        text-align: right;\n",
       "    }\n",
       "</style>\n",
       "<table border=\"1\" class=\"dataframe\">\n",
       "  <thead>\n",
       "    <tr style=\"text-align: right;\">\n",
       "      <th></th>\n",
       "      <th>text</th>\n",
       "      <th>embeddings</th>\n",
       "    </tr>\n",
       "  </thead>\n",
       "  <tbody>\n",
       "    <tr>\n",
       "      <th>0</th>\n",
       "      <td>2023 Fashion Trend: Red. Glossy red hues took ...</td>\n",
       "      <td>[-0.020833317190408707, -0.022008126601576805,...</td>\n",
       "    </tr>\n",
       "    <tr>\n",
       "      <th>1</th>\n",
       "      <td>2023 Fashion Trend: Cargo Pants. Utilitarian w...</td>\n",
       "      <td>[-0.001784870750270784, -0.02892744168639183, ...</td>\n",
       "    </tr>\n",
       "    <tr>\n",
       "      <th>2</th>\n",
       "      <td>2023 Fashion Trend: Sheer Clothing. \"Bare it a...</td>\n",
       "      <td>[-0.01045029703527689, -0.01917460933327675, 0...</td>\n",
       "    </tr>\n",
       "    <tr>\n",
       "      <th>3</th>\n",
       "      <td>2023 Fashion Trend: Denim Reimagined. From dou...</td>\n",
       "      <td>[-0.01555274985730648, -0.005349182989448309, ...</td>\n",
       "    </tr>\n",
       "    <tr>\n",
       "      <th>4</th>\n",
       "      <td>2023 Fashion Trend: Shine For The Daytime. The...</td>\n",
       "      <td>[-0.004937837366014719, 0.0018045977922156453,...</td>\n",
       "    </tr>\n",
       "    <tr>\n",
       "      <th>...</th>\n",
       "      <td>...</td>\n",
       "      <td>...</td>\n",
       "    </tr>\n",
       "    <tr>\n",
       "      <th>77</th>\n",
       "      <td>If lime green isn't your vibe, rest assured th...</td>\n",
       "      <td>[-0.002775615779682994, -0.018237359821796417,...</td>\n",
       "    </tr>\n",
       "    <tr>\n",
       "      <th>78</th>\n",
       "      <td>\"As someone who can clearly (not fondly) remem...</td>\n",
       "      <td>[-0.01475916150957346, -0.0064850859344005585,...</td>\n",
       "    </tr>\n",
       "    <tr>\n",
       "      <th>79</th>\n",
       "      <td>\"Combine this design shift with the fact that ...</td>\n",
       "      <td>[-0.02079174853861332, -0.025052573531866074, ...</td>\n",
       "    </tr>\n",
       "    <tr>\n",
       "      <th>80</th>\n",
       "      <td>Thought party season ended at the stroke of mi...</td>\n",
       "      <td>[-0.01981187053024769, -0.022380324080586433, ...</td>\n",
       "    </tr>\n",
       "    <tr>\n",
       "      <th>81</th>\n",
       "      <td>\"This season, we saw the revival of the bubble...</td>\n",
       "      <td>[-0.030918996781110764, 0.002061266452074051, ...</td>\n",
       "    </tr>\n",
       "  </tbody>\n",
       "</table>\n",
       "<p>82 rows × 2 columns</p>\n",
       "</div>"
      ],
      "text/plain": [
       "                                                 text  \\\n",
       "0   2023 Fashion Trend: Red. Glossy red hues took ...   \n",
       "1   2023 Fashion Trend: Cargo Pants. Utilitarian w...   \n",
       "2   2023 Fashion Trend: Sheer Clothing. \"Bare it a...   \n",
       "3   2023 Fashion Trend: Denim Reimagined. From dou...   \n",
       "4   2023 Fashion Trend: Shine For The Daytime. The...   \n",
       "..                                                ...   \n",
       "77  If lime green isn't your vibe, rest assured th...   \n",
       "78  \"As someone who can clearly (not fondly) remem...   \n",
       "79  \"Combine this design shift with the fact that ...   \n",
       "80  Thought party season ended at the stroke of mi...   \n",
       "81  \"This season, we saw the revival of the bubble...   \n",
       "\n",
       "                                           embeddings  \n",
       "0   [-0.020833317190408707, -0.022008126601576805,...  \n",
       "1   [-0.001784870750270784, -0.02892744168639183, ...  \n",
       "2   [-0.01045029703527689, -0.01917460933327675, 0...  \n",
       "3   [-0.01555274985730648, -0.005349182989448309, ...  \n",
       "4   [-0.004937837366014719, 0.0018045977922156453,...  \n",
       "..                                                ...  \n",
       "77  [-0.002775615779682994, -0.018237359821796417,...  \n",
       "78  [-0.01475916150957346, -0.0064850859344005585,...  \n",
       "79  [-0.02079174853861332, -0.025052573531866074, ...  \n",
       "80  [-0.01981187053024769, -0.022380324080586433, ...  \n",
       "81  [-0.030918996781110764, 0.002061266452074051, ...  \n",
       "\n",
       "[82 rows x 2 columns]"
      ]
     },
     "execution_count": 188,
     "metadata": {},
     "output_type": "execute_result"
    }
   ],
   "source": [
    "EMBEDDING_MODEL_NAME = \"text-embedding-ada-002\"\n",
    "batch_size = 100\n",
    "embeddings = []\n",
    "for i in range(0, len(df), batch_size):\n",
    "    # Send text data to OpenAI model to get embeddings\n",
    "    response = openai.Embedding.create(\n",
    "        input=df.iloc[i:i+batch_size][\"text\"].tolist(),\n",
    "        engine=EMBEDDING_MODEL_NAME\n",
    "    )\n",
    "    \n",
    "    # Add embeddings to list\n",
    "    embeddings.extend([data[\"embedding\"] for data in response[\"data\"]])\n",
    "\n",
    "# Add embeddings list to dataframe\n",
    "df[\"embeddings\"] = embeddings\n",
    "df"
   ]
  },
  {
   "cell_type": "code",
   "execution_count": 189,
   "id": "f1378d3b",
   "metadata": {},
   "outputs": [],
   "source": [
    "#df.to_csv(\"embeddings.csv\")\n",
    "#df[[\"text\", \"embeddings\"]].to_csv(\"embeddings.csv\")\n",
    "df.to_csv(\"embeddings.csv\")"
   ]
  },
  {
   "cell_type": "code",
   "execution_count": 190,
   "id": "582f0656",
   "metadata": {},
   "outputs": [],
   "source": [
    "#df = pd.read_csv('embeddings.csv', index_col=0)\n",
    "#df[\"embeddings\"] = df[\"embeddings\"].apply(eval).apply(np.array)\n",
    "#df.head()"
   ]
  },
  {
   "cell_type": "markdown",
   "id": "b012a9ca",
   "metadata": {},
   "source": [
    "## c. Function help to find the cosine distance of input query with the dataframes rows "
   ]
  },
  {
   "cell_type": "code",
   "execution_count": 191,
   "id": "0c313c69",
   "metadata": {},
   "outputs": [],
   "source": [
    "from openai.embeddings_utils import get_embedding, distances_from_embeddings\n",
    "EMBEDDING_MODEL_NAME = \"text-embedding-ada-002\"\n",
    "\n",
    "def get_rows_by_cosine_distances(question, df):\n",
    "    \"\"\"\n",
    "    Function that takes in a question string and a dataframe containing\n",
    "    rows of text and associated embeddings, and returns that dataframe\n",
    "    sorted from least to most relevant for that question\n",
    "    \"\"\"\n",
    "    \n",
    "    # Get embeddings for the question text\n",
    "    question_embeddings = get_embedding(question, engine=EMBEDDING_MODEL_NAME)\n",
    "    \n",
    "    # Make a copy of the dataframe and add a \"distances\" column containing\n",
    "    # the cosine distances between each row's embeddings and the\n",
    "    # embeddings of the question\n",
    "    df_copy = df.copy()\n",
    "    \n",
    "    # Add distances column to the dataframe, which contains the cosine distances from of the query against each of the \"text\" \n",
    "    # row in in the dataframe.\n",
    "    df_copy[\"distances\"] = distances_from_embeddings(\n",
    "        question_embeddings,\n",
    "        df_copy[\"embeddings\"].values,\n",
    "        distance_metric=\"cosine\"\n",
    "    )\n",
    "    \n",
    "    # Sort the copied dataframe by the distances and return it\n",
    "    # (shorter distance = more relevant so we sort in ascending order)\n",
    "    df_copy.sort_values(\"distances\", ascending=True, inplace=True)\n",
    "    return df_copy"
   ]
  },
  {
   "cell_type": "code",
   "execution_count": 192,
   "id": "f9124dde",
   "metadata": {},
   "outputs": [
    {
     "data": {
      "text/html": [
       "<div>\n",
       "<style scoped>\n",
       "    .dataframe tbody tr th:only-of-type {\n",
       "        vertical-align: middle;\n",
       "    }\n",
       "\n",
       "    .dataframe tbody tr th {\n",
       "        vertical-align: top;\n",
       "    }\n",
       "\n",
       "    .dataframe thead th {\n",
       "        text-align: right;\n",
       "    }\n",
       "</style>\n",
       "<table border=\"1\" class=\"dataframe\">\n",
       "  <thead>\n",
       "    <tr style=\"text-align: right;\">\n",
       "      <th></th>\n",
       "      <th>text</th>\n",
       "      <th>embeddings</th>\n",
       "      <th>distances</th>\n",
       "    </tr>\n",
       "  </thead>\n",
       "  <tbody>\n",
       "    <tr>\n",
       "      <th>63</th>\n",
       "      <td>\"Every season, there is a trend that speaks to...</td>\n",
       "      <td>[-0.010750052519142628, -0.018666550517082214,...</td>\n",
       "      <td>0.160975</td>\n",
       "    </tr>\n",
       "    <tr>\n",
       "      <th>31</th>\n",
       "      <td>The Tailored Look. This spring, I’m looking to...</td>\n",
       "      <td>[-0.023686544969677925, 0.0065940930508077145,...</td>\n",
       "      <td>0.169192</td>\n",
       "    </tr>\n",
       "    <tr>\n",
       "      <th>69</th>\n",
       "      <td>\"Leather jackets are leading the nouveau grung...</td>\n",
       "      <td>[-0.010424140840768814, 0.004091559909284115, ...</td>\n",
       "      <td>0.169296</td>\n",
       "    </tr>\n",
       "    <tr>\n",
       "      <th>52</th>\n",
       "      <td>I won't waste your time by quoting perhaps the...</td>\n",
       "      <td>[-0.026018904522061348, -0.0006309617892839015...</td>\n",
       "      <td>0.170293</td>\n",
       "    </tr>\n",
       "    <tr>\n",
       "      <th>72</th>\n",
       "      <td>\"Sheer fashion dominated the trends conversati...</td>\n",
       "      <td>[-0.012702646665275097, 0.0010329753858968616,...</td>\n",
       "      <td>0.170657</td>\n",
       "    </tr>\n",
       "    <tr>\n",
       "      <th>...</th>\n",
       "      <td>...</td>\n",
       "      <td>...</td>\n",
       "      <td>...</td>\n",
       "    </tr>\n",
       "    <tr>\n",
       "      <th>15</th>\n",
       "      <td>Romantic Femininity. Balletcore is here to sta...</td>\n",
       "      <td>[-0.043208468705415726, -0.012155783362686634,...</td>\n",
       "      <td>0.224679</td>\n",
       "    </tr>\n",
       "    <tr>\n",
       "      <th>34</th>\n",
       "      <td>Sheer Layering. I never in my life thought I w...</td>\n",
       "      <td>[-0.013608495704829693, -0.010083802975714207,...</td>\n",
       "      <td>0.226525</td>\n",
       "    </tr>\n",
       "    <tr>\n",
       "      <th>78</th>\n",
       "      <td>\"As someone who can clearly (not fondly) remem...</td>\n",
       "      <td>[-0.01475916150957346, -0.0064850859344005585,...</td>\n",
       "      <td>0.228125</td>\n",
       "    </tr>\n",
       "    <tr>\n",
       "      <th>47</th>\n",
       "      <td>\"Big bags have become a favourite among celebr...</td>\n",
       "      <td>[-0.01633322611451149, -0.003675993997603655, ...</td>\n",
       "      <td>0.228128</td>\n",
       "    </tr>\n",
       "    <tr>\n",
       "      <th>18</th>\n",
       "      <td>Oversized Bags. As cute as they can be, tiny b...</td>\n",
       "      <td>[-0.0016791686648502946, -0.006376167293637991...</td>\n",
       "      <td>0.230736</td>\n",
       "    </tr>\n",
       "  </tbody>\n",
       "</table>\n",
       "<p>82 rows × 3 columns</p>\n",
       "</div>"
      ],
      "text/plain": [
       "                                                 text  \\\n",
       "63  \"Every season, there is a trend that speaks to...   \n",
       "31  The Tailored Look. This spring, I’m looking to...   \n",
       "69  \"Leather jackets are leading the nouveau grung...   \n",
       "52  I won't waste your time by quoting perhaps the...   \n",
       "72  \"Sheer fashion dominated the trends conversati...   \n",
       "..                                                ...   \n",
       "15  Romantic Femininity. Balletcore is here to sta...   \n",
       "34  Sheer Layering. I never in my life thought I w...   \n",
       "78  \"As someone who can clearly (not fondly) remem...   \n",
       "47  \"Big bags have become a favourite among celebr...   \n",
       "18  Oversized Bags. As cute as they can be, tiny b...   \n",
       "\n",
       "                                           embeddings  distances  \n",
       "63  [-0.010750052519142628, -0.018666550517082214,...   0.160975  \n",
       "31  [-0.023686544969677925, 0.0065940930508077145,...   0.169192  \n",
       "69  [-0.010424140840768814, 0.004091559909284115, ...   0.169296  \n",
       "52  [-0.026018904522061348, -0.0006309617892839015...   0.170293  \n",
       "72  [-0.012702646665275097, 0.0010329753858968616,...   0.170657  \n",
       "..                                                ...        ...  \n",
       "15  [-0.043208468705415726, -0.012155783362686634,...   0.224679  \n",
       "34  [-0.013608495704829693, -0.010083802975714207,...   0.226525  \n",
       "78  [-0.01475916150957346, -0.0064850859344005585,...   0.228125  \n",
       "47  [-0.01633322611451149, -0.003675993997603655, ...   0.228128  \n",
       "18  [-0.0016791686648502946, -0.006376167293637991...   0.230736  \n",
       "\n",
       "[82 rows x 3 columns]"
      ]
     },
     "execution_count": 192,
     "metadata": {},
     "output_type": "execute_result"
    }
   ],
   "source": [
    "get_rows_by_cosine_distances(\"Tell me about the current fashion trends in the market.\", df)"
   ]
  },
  {
   "cell_type": "code",
   "execution_count": 193,
   "id": "6895b3b3",
   "metadata": {},
   "outputs": [
    {
     "data": {
      "text/html": [
       "<div>\n",
       "<style scoped>\n",
       "    .dataframe tbody tr th:only-of-type {\n",
       "        vertical-align: middle;\n",
       "    }\n",
       "\n",
       "    .dataframe tbody tr th {\n",
       "        vertical-align: top;\n",
       "    }\n",
       "\n",
       "    .dataframe thead th {\n",
       "        text-align: right;\n",
       "    }\n",
       "</style>\n",
       "<table border=\"1\" class=\"dataframe\">\n",
       "  <thead>\n",
       "    <tr style=\"text-align: right;\">\n",
       "      <th></th>\n",
       "      <th>text</th>\n",
       "      <th>embeddings</th>\n",
       "      <th>distances</th>\n",
       "    </tr>\n",
       "  </thead>\n",
       "  <tbody>\n",
       "    <tr>\n",
       "      <th>54</th>\n",
       "      <td>Not a tie-dye girl yet fed up to the back teet...</td>\n",
       "      <td>[-0.038696520030498505, 0.00490457471460104, -...</td>\n",
       "      <td>0.185116</td>\n",
       "    </tr>\n",
       "    <tr>\n",
       "      <th>55</th>\n",
       "      <td>\"The movement could be traced back to Jonathan...</td>\n",
       "      <td>[-0.03094329871237278, -7.339801959460601e-05,...</td>\n",
       "      <td>0.196293</td>\n",
       "    </tr>\n",
       "    <tr>\n",
       "      <th>52</th>\n",
       "      <td>I won't waste your time by quoting perhaps the...</td>\n",
       "      <td>[-0.026018904522061348, -0.0006309617892839015...</td>\n",
       "      <td>0.206244</td>\n",
       "    </tr>\n",
       "    <tr>\n",
       "      <th>69</th>\n",
       "      <td>\"Leather jackets are leading the nouveau grung...</td>\n",
       "      <td>[-0.010424140840768814, 0.004091559909284115, ...</td>\n",
       "      <td>0.211688</td>\n",
       "    </tr>\n",
       "    <tr>\n",
       "      <th>53</th>\n",
       "      <td>For spring 2023, there was a more surrealist i...</td>\n",
       "      <td>[-0.034433700144290924, -0.00899236835539341, ...</td>\n",
       "      <td>0.217043</td>\n",
       "    </tr>\n",
       "    <tr>\n",
       "      <th>...</th>\n",
       "      <td>...</td>\n",
       "      <td>...</td>\n",
       "      <td>...</td>\n",
       "    </tr>\n",
       "    <tr>\n",
       "      <th>78</th>\n",
       "      <td>\"As someone who can clearly (not fondly) remem...</td>\n",
       "      <td>[-0.01475916150957346, -0.0064850859344005585,...</td>\n",
       "      <td>0.263279</td>\n",
       "    </tr>\n",
       "    <tr>\n",
       "      <th>37</th>\n",
       "      <td>The-Bigger-the-Better Bags. Gone are the days ...</td>\n",
       "      <td>[-0.011324513703584671, -0.0036169933155179024...</td>\n",
       "      <td>0.264725</td>\n",
       "    </tr>\n",
       "    <tr>\n",
       "      <th>6</th>\n",
       "      <td>2023 Fashion Trend: Cobalt Blue. The strongest...</td>\n",
       "      <td>[-0.0069767870008945465, -0.021418340504169464...</td>\n",
       "      <td>0.264808</td>\n",
       "    </tr>\n",
       "    <tr>\n",
       "      <th>5</th>\n",
       "      <td>2023 Fashion Trend: Maxi Skirts. In response t...</td>\n",
       "      <td>[-0.025447335094213486, -0.01921859383583069, ...</td>\n",
       "      <td>0.265055</td>\n",
       "    </tr>\n",
       "    <tr>\n",
       "      <th>1</th>\n",
       "      <td>2023 Fashion Trend: Cargo Pants. Utilitarian w...</td>\n",
       "      <td>[-0.001784870750270784, -0.02892744168639183, ...</td>\n",
       "      <td>0.267365</td>\n",
       "    </tr>\n",
       "  </tbody>\n",
       "</table>\n",
       "<p>82 rows × 3 columns</p>\n",
       "</div>"
      ],
      "text/plain": [
       "                                                 text  \\\n",
       "54  Not a tie-dye girl yet fed up to the back teet...   \n",
       "55  \"The movement could be traced back to Jonathan...   \n",
       "52  I won't waste your time by quoting perhaps the...   \n",
       "69  \"Leather jackets are leading the nouveau grung...   \n",
       "53  For spring 2023, there was a more surrealist i...   \n",
       "..                                                ...   \n",
       "78  \"As someone who can clearly (not fondly) remem...   \n",
       "37  The-Bigger-the-Better Bags. Gone are the days ...   \n",
       "6   2023 Fashion Trend: Cobalt Blue. The strongest...   \n",
       "5   2023 Fashion Trend: Maxi Skirts. In response t...   \n",
       "1   2023 Fashion Trend: Cargo Pants. Utilitarian w...   \n",
       "\n",
       "                                           embeddings  distances  \n",
       "54  [-0.038696520030498505, 0.00490457471460104, -...   0.185116  \n",
       "55  [-0.03094329871237278, -7.339801959460601e-05,...   0.196293  \n",
       "52  [-0.026018904522061348, -0.0006309617892839015...   0.206244  \n",
       "69  [-0.010424140840768814, 0.004091559909284115, ...   0.211688  \n",
       "53  [-0.034433700144290924, -0.00899236835539341, ...   0.217043  \n",
       "..                                                ...        ...  \n",
       "78  [-0.01475916150957346, -0.0064850859344005585,...   0.263279  \n",
       "37  [-0.011324513703584671, -0.0036169933155179024...   0.264725  \n",
       "6   [-0.0069767870008945465, -0.021418340504169464...   0.264808  \n",
       "5   [-0.025447335094213486, -0.01921859383583069, ...   0.265055  \n",
       "1   [-0.001784870750270784, -0.02892744168639183, ...   0.267365  \n",
       "\n",
       "[82 rows x 3 columns]"
      ]
     },
     "execution_count": 193,
     "metadata": {},
     "output_type": "execute_result"
    }
   ],
   "source": [
    "get_rows_sorted_by_relevance(\"what are your views about animal prints?\", df)"
   ]
  },
  {
   "cell_type": "markdown",
   "id": "894d3956",
   "metadata": {},
   "source": [
    "## d. Function for creating the Prompt Template !!"
   ]
  },
  {
   "cell_type": "code",
   "execution_count": 194,
   "id": "314ff722",
   "metadata": {},
   "outputs": [],
   "source": [
    "import tiktoken\n",
    "\n",
    "def create_prompt(question, df, max_token_count):\n",
    "    \"\"\"\n",
    "    Given a question and a dataframe containing rows of text and their\n",
    "    embeddings, return a text prompt to send to a Completion model\n",
    "    \"\"\"\n",
    "    # Create a tokenizer that is designed to align with our embeddings\n",
    "    tokenizer = tiktoken.get_encoding(\"cl100k_base\")\n",
    "    \n",
    "    # Count the number of tokens in the prompt template and question\n",
    "    prompt_template = \"\"\"\n",
    "Answer the question based on the context below, and if the question\n",
    "can't be answered based on the context, say \"I don't know\"\n",
    "\n",
    "Context: \n",
    "\n",
    "{}\n",
    "\n",
    "---\n",
    "\n",
    "Question: {}\n",
    "Answer:\"\"\"\n",
    "    \n",
    "    current_token_count = len(tokenizer.encode(prompt_template)) + \\\n",
    "                            len(tokenizer.encode(question))\n",
    "    \n",
    "    context = []\n",
    "    for text in get_rows_by_cosine_distances(question, df)[\"text\"].values:\n",
    "        \n",
    "        # Increase the counter based on the number of tokens in this row\n",
    "        text_token_count = len(tokenizer.encode(text))\n",
    "        current_token_count += text_token_count\n",
    "        \n",
    "        # Add the row of text to the list if we haven't exceeded the max\n",
    "        if current_token_count <= max_token_count:\n",
    "            context.append(text)\n",
    "        else:\n",
    "            break\n",
    "\n",
    "    return prompt_template.format(\"\\n\\n###\\n\\n\".join(context), question)\n"
   ]
  },
  {
   "cell_type": "markdown",
   "id": "b93b6709",
   "metadata": {},
   "source": [
    "#### Prompt Templates"
   ]
  },
  {
   "cell_type": "code",
   "execution_count": 195,
   "id": "6dc4030c",
   "metadata": {
    "scrolled": false
   },
   "outputs": [
    {
     "name": "stdout",
     "output_type": "stream",
     "text": [
      "\n",
      "Answer the question based on the context below, and if the question\n",
      "can't be answered based on the context, say \"I don't know\"\n",
      "\n",
      "Context: \n",
      "\n",
      "\"Every season, there is a trend that speaks to the inner maximalist in us. While autumn gave us lurid neons, biker boots and Y2K glamour, spring/summer 2023 presents something a little sweeter, and those with an aversion to all things 'pretty,' consider this your warning to look away now,\" says Remy Farrell, shopping editor at Who What Wear UK.\n",
      "\n",
      "###\n",
      "\n",
      "\"Leather jackets are leading the nouveau grunge trend, with Masha Popova, Knwls and Gucci bringing strong seasonal updates,\" says Gramston. See? Easy!\n",
      "\n",
      "###\n",
      "\n",
      "\"Sheer fashion dominated the trends conversations for S/S 23 as seen at Simone Rocha, Christopher Kane, Rick Owens and Molly Goddard. We loved Molly Goddard's romantic take on the trend, featuring her signature ruffle details on sheer orange midi dresses,\" says Wiggins.\n",
      "\n",
      "###\n",
      "\n",
      "I won't waste your time by quoting perhaps the most famous line in fashion-themed cinematic history, but let's just say florals are hardly revolutionary when it comes to the warmer months. At least they weren't until designers decided to double down on the trend and give it the gusto it has long been craving for with a new take on blooms. We spotted a plethora of pretty 3D floral embellishments across plenty of collections, from Magda Butrym's rosette choker to Loewe's Anthuriums of epic portions. \n",
      "\n",
      "---\n",
      "\n",
      "Question: Tell me about the current fashion trends in the market\n",
      "Answer:\n"
     ]
    }
   ],
   "source": [
    "print(create_prompt(\"Tell me about the current fashion trends in the market\", df, 400))"
   ]
  },
  {
   "cell_type": "code",
   "execution_count": 196,
   "id": "a1fc91bc",
   "metadata": {},
   "outputs": [
    {
     "name": "stdout",
     "output_type": "stream",
     "text": [
      "\n",
      "Answer the question based on the context below, and if the question\n",
      "can't be answered based on the context, say \"I don't know\"\n",
      "\n",
      "Context: \n",
      "\n",
      "Not a tie-dye girl yet fed up to the back teeth with ditsy florals? Then a new wave of digitally manipulated, mind-bending blurry prints will provide you with some sweet patterned relief for the coming season—they're certainly my number one choice when it comes to adding a new, unique motif into my heavily printed repertoire, says Hannah Almassi, editor in chief at Who What Wear UK.\n",
      "\n",
      "###\n",
      "\n",
      "\"The movement could be traced back to Jonathan Anderson's cult-adored blur-print tube dresses from Loewe last summer—the designer kick-started a revival for formfitting trompe l'oeil and cyber prints, and the look appears to be holding strong for S/S 23. But there is also another side to this creative coin; I've noticed an air of bohemia for smudgy surface patterns, with some designers combining lighter-weight, billowing fabrics alongside painterly ombrés to great effect. It's very 'I work in the arts, darling.'\" \n",
      "\n",
      "###\n",
      "\n",
      "I won't waste your time by quoting perhaps the most famous line in fashion-themed cinematic history, but let's just say florals are hardly revolutionary when it comes to the warmer months. At least they weren't until designers decided to double down on the trend and give it the gusto it has long been craving for with a new take on blooms. We spotted a plethora of pretty 3D floral embellishments across plenty of collections, from Magda Butrym's rosette choker to Loewe's Anthuriums of epic portions. \n",
      "\n",
      "###\n",
      "\n",
      "\"Leather jackets are leading the nouveau grunge trend, with Masha Popova, Knwls and Gucci bringing strong seasonal updates,\" says Gramston. See? Easy!\n",
      "\n",
      "---\n",
      "\n",
      "Question: what are your views about Animal Prints?\n",
      "Answer:\n"
     ]
    }
   ],
   "source": [
    "print(create_prompt(\"what are your views about Animal Prints?\", df, 400))"
   ]
  },
  {
   "cell_type": "markdown",
   "id": "d736f6d7",
   "metadata": {},
   "source": [
    "## e. Answers a Question"
   ]
  },
  {
   "cell_type": "code",
   "execution_count": 197,
   "id": "59eac58f",
   "metadata": {},
   "outputs": [],
   "source": [
    "COMPLETION_MODEL_NAME = \"gpt-3.5-turbo-instruct\"\n",
    "\n",
    "def answer_question(\n",
    "    question, df, max_prompt_tokens=1800, max_answer_tokens=1000\n",
    "):\n",
    "    \"\"\"\n",
    "    Given a question, a dataframe containing rows of text, and a maximum\n",
    "    number of desired tokens in the prompt and response, return the\n",
    "    answer to the question according to an OpenAI Completion model\n",
    "    \n",
    "    If the model produces an error, return an empty string\n",
    "    \"\"\"\n",
    "    \n",
    "    prompt = create_prompt(question, df, max_prompt_tokens)\n",
    "    \n",
    "    try:\n",
    "        response = openai.Completion.create(\n",
    "            model=COMPLETION_MODEL_NAME,\n",
    "            prompt=prompt,\n",
    "            max_tokens=max_answer_tokens\n",
    "        )\n",
    "        return response[\"choices\"][0][\"text\"].strip()\n",
    "    except Exception as e:\n",
    "        print(e)\n",
    "        return \"\""
   ]
  },
  {
   "cell_type": "markdown",
   "id": "c314235f",
   "metadata": {},
   "source": [
    "## 4. Write Questions to Demonstrate Custom Performance"
   ]
  },
  {
   "cell_type": "markdown",
   "id": "104f25ae",
   "metadata": {},
   "source": [
    " TODO: In the cells below, demonstrate the performance of your custom query using at least 2 questions. For each question, show the answer from a basic Completion model query as well as the answer from your custom query."
   ]
  },
  {
   "cell_type": "markdown",
   "id": "119442e3",
   "metadata": {},
   "source": [
    "## Question 1"
   ]
  },
  {
   "cell_type": "code",
   "execution_count": 198,
   "id": "d8f3bce1",
   "metadata": {},
   "outputs": [
    {
     "name": "stdout",
     "output_type": "stream",
     "text": [
      "Currently, there are several fashion trends dominating the market. These include:\n",
      "- Maximalist fashion with bright neon colors, biker boots, and Y2K glamour\n",
      "- Neo-grunge with leather jackets and strong seasonal updates from designers like Masha Popova, Knwls, and Gucci\n",
      "- Sheer fashion, particularly in dresses and tops, as seen in collections from Simone Rocha, Christopher Kane, Rick Owens, and Molly Goddard\n",
      "- Pared-back and minimalist fashion with a focus on tailored pieces and crisp white shirting, as seen in the runways of Khaite, The Row, and Peter Do\n",
      "- Nudity in a subtle and chic way, as seen in the shows of Saint Laurent and Valentino and reflected in a 600% increase in searches for sheer tops during Fashion Month\n",
      "- Elevated basics, with a '90s influence and chic silhouettes, as seen in collections from Peter Do and Roksanda\n",
      "- Red hues dominating the Fall 2023 runways from designers like Sandy Liang, PatBo, Tory Burch, and Wiederhoeft\n",
      "- Denim being reimagined, with designers like Tibi and Bally featuring wide-legged, slouchy-fit styles\n",
      "- Daytime shine, with designers incorporating metallic shades and sequins into wearable separates for a touch of glamour\n",
      "- Bold pops of cobalt blue, which was a standout color on the Spring 2023 runways\n",
      "- Classic styles like button-up shirts and plain T-shirts being transformed and restyled in unexpected ways by designers like Peter Do, Stella McCartney, and Bottega Veneta.\n"
     ]
    }
   ],
   "source": [
    "custom_answer = answer_question(\"Tell me about the current fashion trends in the market\", df)\n",
    "print(custom_answer)"
   ]
  },
  {
   "cell_type": "markdown",
   "id": "fe6e607e",
   "metadata": {},
   "source": [
    "## Question 2"
   ]
  },
  {
   "cell_type": "code",
   "execution_count": 199,
   "id": "c9471278",
   "metadata": {},
   "outputs": [
    {
     "name": "stdout",
     "output_type": "stream",
     "text": [
      "Based on the context, it appears that leather jackets are a popular trend in fashion, with many designers and brands incorporating them into their collections. They are seen as both elegant and edgy, and are often styled with other moto-inspired or biker-style clothing. There are various styles and updates to the traditional leather jacket, making it a versatile and sought-after piece in wardrobes. Additionally, it is mentioned that leather jackets have been a trend in past fashion seasons and continue to be popular for the upcoming season.\n"
     ]
    }
   ],
   "source": [
    "custom_answer2 = answer_question(\"what are your views about leather jackets\", df)\n",
    "print(custom_answer2)"
   ]
  },
  {
   "cell_type": "markdown",
   "id": "5f30a2f2",
   "metadata": {},
   "source": [
    "## 4. Write Questions to Demonstrate Custom Performance"
   ]
  },
  {
   "cell_type": "code",
   "execution_count": 200,
   "id": "10d2f74e",
   "metadata": {},
   "outputs": [
    {
     "name": "stdout",
     "output_type": "stream",
     "text": [
      "\n",
      "Tell me some of the current fashion trends.\n",
      "\n",
      "Original Answer: Some current fashion trends in the market include:\n",
      "1. Sustainable and eco-friendly fashion: There has been a growing trend towards ethical and sustainable fashion, with more and more consumers seeking out brands that use environmentally friendly materials and production methods.\n",
      "\n",
      "2. Nostalgic fashion: Nostalgia is a major trend in fashion, with many designers bringing back styles and trends from past decades, such as 70s inspired prints, 80s silhouettes, and 90s grunge.\n",
      "\n",
      "3. Bold colors and patterns: Bright and bold colors and patterns are making a comeback in the fashion world. From neon hues to graphic prints, these eye-catching styles are popular among fashion influencers and trendsetters.\n",
      "\n",
      "4. Athleisure: The trend\n",
      "\n",
      "\n",
      "Custom Answer:   Currently, there are several fashion trends dominating the market. These include:\n",
      "- Maximalist fashion with bright neon colors, biker boots, and Y2K glamour\n",
      "- Neo-grunge with leather jackets and strong seasonal updates from designers like Masha Popova, Knwls, and Gucci\n",
      "- Sheer fashion, particularly in dresses and tops, as seen in collections from Simone Rocha, Christopher Kane, Rick Owens, and Molly Goddard\n",
      "- Pared-back and minimalist fashion with a focus on tailored pieces and crisp white shirting, as seen in the runways of Khaite, The Row, and Peter Do\n",
      "- Nudity in a subtle and chic way, as seen in the shows of Saint Laurent and Valentino and reflected in a 600% increase in searches for sheer tops during Fashion Month\n",
      "- Elevated basics, with a '90s influence and chic silhouettes, as seen in collections from Peter Do and Roksanda\n",
      "- Red hues dominating the Fall 2023 runways from designers like Sandy Liang, PatBo, Tory Burch, and Wiederhoeft\n",
      "- Denim being reimagined, with designers like Tibi and Bally featuring wide-legged, slouchy-fit styles\n",
      "- Daytime shine, with designers incorporating metallic shades and sequins into wearable separates for a touch of glamour\n",
      "- Bold pops of cobalt blue, which was a standout color on the Spring 2023 runways\n",
      "- Classic styles like button-up shirts and plain T-shirts being transformed and restyled in unexpected ways by designers like Peter Do, Stella McCartney, and Bottega Veneta.\n",
      "\n",
      "---\n",
      "\n",
      "what are your views about oversized bags?\n",
      "Original Answer: I am an AI and do not have personal opinions, but many people enjoy using animal prints in fashion and decor for their bold and unique look. Some may find them stylish and trendy, while others may not be as fond of them. Ultimately, it is a matter of personal preference.\n",
      "\n",
      "\n",
      "Custom Answer:   Based on the context, it appears that leather jackets are a popular trend in fashion, with many designers and brands incorporating them into their collections. They are seen as both elegant and edgy, and are often styled with other moto-inspired or biker-style clothing. There are various styles and updates to the traditional leather jacket, making it a versatile and sought-after piece in wardrobes. Additionally, it is mentioned that leather jackets have been a trend in past fashion seasons and continue to be popular for the upcoming season.\n",
      "\n"
     ]
    }
   ],
   "source": [
    "print(f\"\"\"\n",
    "Tell me some of the current fashion trends.\n",
    "\n",
    "Original Answer: {initial_answer}\n",
    "\\n\\nCustom Answer:   {custom_answer}\n",
    "\n",
    "---\n",
    "\n",
    "what are your views about oversized bags?\n",
    "Original Answer: {initial_answer2}\n",
    "\\n\\nCustom Answer:   {custom_answer2}\n",
    "\"\"\")"
   ]
  }
 ],
 "metadata": {
  "kernelspec": {
   "display_name": "Python 3 (ipykernel)",
   "language": "python",
   "name": "python3"
  },
  "language_info": {
   "codemirror_mode": {
    "name": "ipython",
    "version": 3
   },
   "file_extension": ".py",
   "mimetype": "text/x-python",
   "name": "python",
   "nbconvert_exporter": "python",
   "pygments_lexer": "ipython3",
   "version": "3.9.18"
  }
 },
 "nbformat": 4,
 "nbformat_minor": 5
}
