{
 "cells": [
  {
   "cell_type": "markdown",
   "metadata": {},
   "source": [
    "In this exercise, you explored creating a wellness agent using ReACT Prompting techniques\n",
    "\n",
    "Your system message (ReACT agent instructions) will be different than the example below.  Because we're sending natural language, there is no right or wrong answer.  "
   ]
  },
  {
   "cell_type": "code",
   "execution_count": 1,
   "metadata": {},
   "outputs": [],
   "source": [
    "# Importing the library for OpenAI API\n",
    "import openai\n",
    "openai.api_base = \"https://openai.vocareum.com/v1\"\n",
    "\n",
    "# Define OpenAI API key \n",
    "api_key = \"\"\n",
    "openai.api_key = api_key"
   ]
  },
  {
   "cell_type": "markdown",
   "metadata": {},
   "source": [
    "This example user prompt is related to wellness. "
   ]
  },
  {
   "cell_type": "code",
   "execution_count": 2,
   "metadata": {},
   "outputs": [
    {
     "name": "stdout",
     "output_type": "stream",
     "text": [
      "How can I know my diet is improving my wellness?\n"
     ]
    }
   ],
   "source": [
    "# Creating the prompt\n",
    "user_prompt = f\"How can I know my diet is improving my wellness?\"\n",
    "print(user_prompt)"
   ]
  },
  {
   "cell_type": "markdown",
   "metadata": {},
   "source": [
    "An example solution to a ReACT system prompt for a wellness agent: "
   ]
  },
  {
   "cell_type": "code",
   "execution_count": 3,
   "metadata": {},
   "outputs": [
    {
     "name": "stdout",
     "output_type": "stream",
     "text": [
      "Wellness Agent Response: \n",
      "(Thought) User is seeking guidance on how to assess if their diet is positively impacting their wellness.\n",
      "\n",
      "Collect[Details about user's current diet and wellness goals]:\n",
      "- What does a typical day of eating look like for you?\n",
      "- How do you feel physically and mentally after you eat certain foods?\n",
      "- Have you noticed any changes in your energy levels, mood, or overall well-being based on your diet changes?\n",
      "\n",
      "Provide[Wellness Information]:\n",
      "- Keeping a food diary can help you track what you eat and how it makes you feel. This can help you identify any patterns between your diet and your wellness.\n",
      "- Pay attention to how certain foods affect your energy levels, digestion, skin health, and overall mood to gauge the impact of your diet on your wellness.\n",
      "- Consider consulting with a registered dietitian or nutritionist to get personalized advice and guidance on optimizing your diet for improved wellness.\n",
      "\n",
      "Recommend[Plan]:\n",
      "- Start by keeping a food journal for a week and note how different foods make you feel.\n",
      "- Focus on consuming a balanced diet rich in fruits, vegetables, whole grains, lean proteins, and healthy fats.\n",
      "- Gradually incorporate more whole, unprocessed foods into your meals and reduce the intake of sugary and processed foods.\n",
      "- Consider setting specific wellness goals related to your diet, such as drinking more water, reducing sugar intake, or including more plant-based meals in your diet.\n",
      "\n",
      "Observation: How do you feel about starting a food journal to track your diet and wellness? Would you like more tips on improving your diet for better wellness?\n"
     ]
    }
   ],
   "source": [
    "# Function to call the OpenAI GPT-3.5 API\n",
    "def wellness_agent(user_prompt):\n",
    "    try:\n",
    "        # Calling the OpenAI API with a system message and our prompt in the user message content\n",
    "        # Use openai.ChatCompletion.create for openai < 1.0\n",
    "        # openai.chat.completions.create for openai > 1.0\n",
    "        response = openai.ChatCompletion.create(\n",
    "          model=\"gpt-3.5-turbo\",\n",
    "          messages=[\n",
    "          {\n",
    "            \"role\": \"system\",\n",
    "            \"content\": \"\"\"Your goal is to improve the wellness of the user by interleaving thought, action, and observation steps.\n",
    "              (Thought Step) Begin by assessing the user's current wellness situation. Consider factors like their reported diet, exercise habits, mental health status, and any specific wellness goals they have shared.\n",
    "              (Action Steps) Collect[Data from user] - Engage with the user to gather essential wellness information, data, or metrics. This can include dietary habits, fitness routines, stress levels, sleep patterns, and wellness objectives. \n",
    "                             Provide[Wellness Information] - Based on the collected data and current wellness trends, offer knowledge and insights about nutrition, exercise regimes, mental wellness practices, and relevant biological or medical information that supports and improves wellness. \n",
    "                             Recommend[Plan] - Conclude with a tailored recommendation or a specific action plan that the user can implement to enhance their wellness. This could be a dietary change, a new exercise, a mental relaxation technique, or a suggestion to consult a healthcare professional for more personalized advice. \n",
    "              (Observation Step) Respond to the user with the Action Steps, and observe the user's response and engagement. Gauge their understanding and willingness to follow the suggestions. Be ready to offer further clarification or alternative recommendations if needed.\n",
    "              Repeat these steps N times until the user's wellness has improved.\n",
    "              Example: \n",
    "              [User Query] I'm feeling stressed and not sleeping well. What can I do to improve my sleep? \n",
    "              (Thought) User is experiencing stress and poor sleep, likely interconnected issues. \n",
    "              Collect[Details about user's current stressors and sleep habits], \n",
    "              Provide[Information on relaxation techniques and sleep hygiene practices]. \n",
    "              Recommend)[Plan] Consider trying meditation before bed and establishing a regular sleep schedule. \n",
    "              What are some current stressors in your life? How many hours of sleep do you get each night?\n",
    "              Have you tried meditation before bed? Do you have a regular sleep schedule?\n",
    "              Consider trying meditation before bed and establishing a regular sleep schedule.\n",
    "              Let's create a plan to meditate for 10 minutes before bed each night this week.\n",
    "              What are some other wellness goals you have or wellness issues you are experiencing?\n",
    "              \"\"\"\n",
    "          },\n",
    "          {\n",
    "            \"role\": \"user\",\n",
    "            \"content\": user_prompt\n",
    "          }\n",
    "          ],\n",
    "        temperature=1,\n",
    "        max_tokens=512,\n",
    "        top_p=1,\n",
    "        frequency_penalty=0,\n",
    "        presence_penalty=0\n",
    "        )\n",
    "        # The response is a JSON object containing more information than the response. We want to return only the message content\n",
    "        return response.choices[0].message.content\n",
    "    except Exception as e:\n",
    "        return f\"An error occurred: {e}\"\n",
    "\n",
    "# Running the wellness agent\n",
    "run_wellness_agent = wellness_agent(user_prompt)\n",
    "\n",
    "# Printing the output. \n",
    "print(\"Wellness Agent Response: \")\n",
    "print(run_wellness_agent)"
   ]
  },
  {
   "cell_type": "code",
   "execution_count": null,
   "metadata": {},
   "outputs": [],
   "source": []
  }
 ],
 "metadata": {
  "kernelspec": {
   "display_name": "Python 3 (ipykernel)",
   "language": "python",
   "name": "python3"
  },
  "language_info": {
   "codemirror_mode": {
    "name": "ipython",
    "version": 3
   },
   "file_extension": ".py",
   "mimetype": "text/x-python",
   "name": "python",
   "nbconvert_exporter": "python",
   "pygments_lexer": "ipython3",
   "version": "3.10.13"
  }
 },
 "nbformat": 4,
 "nbformat_minor": 2
}
