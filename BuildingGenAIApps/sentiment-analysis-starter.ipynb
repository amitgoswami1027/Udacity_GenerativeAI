{
 "cells": [
  {
   "cell_type": "code",
   "execution_count": 1,
   "metadata": {},
   "outputs": [],
   "source": [
    "import os\n",
    "\n",
    "os.environ[\"OPENAI_API_KEY\"] = \"\"\n",
    "os.environ[\"OPENAI_API_BASE\"] = \"https://openai.vocareum.com/v1\""
   ]
  },
  {
   "cell_type": "code",
   "execution_count": 4,
   "metadata": {},
   "outputs": [],
   "source": [
    "# from langchain.llms import OpenAI # this code has been deprecated since recording.\n",
    "from langchain.chat_models import ChatOpenAI # this is the replacement \n",
    "from langchain.prompts import PromptTemplate\n",
    "from langchain.output_parsers import PydanticOutputParser\n",
    "from pydantic import BaseModel, Field, NonNegativeInt\n",
    "from typing import List\n",
    "from random import sample \n",
    "from langchain.document_loaders.csv_loader import CSVLoader"
   ]
  },
  {
   "cell_type": "markdown",
   "metadata": {},
   "source": [
    "First, let's create a loader and load reviews from tv-reviews.csv into memory"
   ]
  },
  {
   "cell_type": "code",
   "execution_count": 5,
   "metadata": {},
   "outputs": [
    {
     "name": "stdout",
     "output_type": "stream",
     "text": [
      "[Document(page_content=\"TV Name: Imagix Pro\\nReview Title: Amazing Picture Quality\\nReview Rating: 9\\nReview Text: I recently purchased the Imagix Pro and I am blown away by its picture quality. The colors are vibrant and the images are crystal clear. It feels like I'm watching movies in a theater! The sound is also impressive, creating a truly immersive experience. Highly recommended!\", metadata={'source': './tv-reviews.csv', 'row': 0}), Document(page_content=\"TV Name: Imagix Pro\\nReview Title: Impressive Features\\nReview Rating: 8\\nReview Text: The Imagix Pro is packed with impressive features that enhance my viewing experience. The smart functionality allows me to easily stream my favorite shows and movies. The remote control is user-friendly and has convenient shortcuts. The slim design is sleek and fits perfectly in my living room. The only downside is that the sound could be better, but overall, I'm satisfied.\", metadata={'source': './tv-reviews.csv', 'row': 1}), Document(page_content=\"TV Name: Imagix Pro\\nReview Title: Unmatched Clarity\\nReview Rating: 10\\nReview Text: I cannot express enough how impressed I am with the clarity of the Imagix Pro. Every detail is so sharp and lifelike, it's like I can reach out and touch the images on the screen. The colors are vibrant and realistic, making everything look stunning. It truly enhances my movie-watching experience!\", metadata={'source': './tv-reviews.csv', 'row': 2}), Document(page_content=\"TV Name: Imagix Pro\\nReview Title: Disappointing Sound Quality\\nReview Rating: 3\\nReview Text: While the picture quality of the Imagix Pro is excellent, I am disappointed with the sound quality. The volume lacks depth and the bass is almost non-existent. I had to invest in external speakers to enjoy a better audio experience. It's a shame that such a great TV falls short in this aspect.\", metadata={'source': './tv-reviews.csv', 'row': 3}), Document(page_content='TV Name: Imagix Pro\\nReview Title: Easy Setup and Navigation\\nReview Rating: 9\\nReview Text: Setting up the Imagix Pro was a breeze. The instructions were clear and the TV guided me through the process smoothly. The interface is intuitive and easy to navigate. I love how seamless it is to switch between different apps and inputs. This TV has made my life so much simpler!', metadata={'source': './tv-reviews.csv', 'row': 4}), Document(page_content=\"TV Name: Imagix Pro\\nReview Title: Stunning Design\\nReview Rating: 10\\nReview Text: The Imagix Pro not only offers exceptional performance but also boasts a stunning design. The ultra-thin bezels and sleek finish make it a focal point of my living room. The TV blends seamlessly with my decor. It's a true work of art!\", metadata={'source': './tv-reviews.csv', 'row': 5}), Document(page_content='TV Name: Imagix Pro\\nReview Title: Outstanding Value for Money\\nReview Rating: 9\\nReview Text: The Imagix Pro is a fantastic value for money. Considering its high-quality performance, impressive features, and sleek design, it offers more bang for the buck compared to other TVs in the market. I am extremely satisfied with my purchase.', metadata={'source': './tv-reviews.csv', 'row': 6}), Document(page_content=\"TV Name: Imagix Pro\\nReview Title: Unreliable Connectivity\\nReview Rating: 4\\nReview Text: One major issue I have encountered with the Imagix Pro is its unreliable connectivity. The Wi-Fi frequently disconnects, causing buffering issues during streaming. The TV also struggles to maintain a stable Bluetooth connection. It's frustrating, especially considering the price I paid.\", metadata={'source': './tv-reviews.csv', 'row': 7}), Document(page_content=\"TV Name: Imagix Pro\\nReview Title: Perfect Gaming TV\\nReview Rating: 8\\nReview Text: As a gaming enthusiast, the Imagix Pro is a dream come true. The low input lag and high refresh rate ensure smooth gameplay. The colors are vibrant and the details are crisp, providing an immersive gaming experience. It's the perfect TV for all gamers out there!\", metadata={'source': './tv-reviews.csv', 'row': 8}), Document(page_content='TV Name: Imagix Pro\\nReview Title: Exceptional Customer Service\\nReview Rating: 10\\nReview Text: I had a minor issue with my Imagix Pro, but the customer service team was exceptional. They were prompt in addressing my concern and guided me through the troubleshooting process. They even offered a quick replacement when the issue persisted. Kudos to their excellent support!', metadata={'source': './tv-reviews.csv', 'row': 9}), Document(page_content=\"TV Name: VisionMax Ultra\\nReview Title: Unmatched Visuals\\nReview Rating: 10\\nReview Text: The VisionMax Ultra lives up to its name by delivering unmatched visuals. The 4K resolution and HDR technology bring every scene to life with incredible detail and vibrant colors. It's like having a cinema in my own home. I couldn't be happier with this TV!\", metadata={'source': './tv-reviews.csv', 'row': 10}), Document(page_content=\"TV Name: VisionMax Ultra\\nReview Title: Disappointing Sound\\nReview Rating: 5\\nReview Text: While the picture quality of the VisionMax Ultra is exceptional, the sound quality falls short. The built-in speakers lack depth and the audio feels hollow. I had to connect external speakers to enjoy a fulfilling audio experience. It's a letdown considering the overall performance of the TV.\", metadata={'source': './tv-reviews.csv', 'row': 11}), Document(page_content='TV Name: VisionMax Ultra\\nReview Title: Sleek and Modern\\nReview Rating: 9\\nReview Text: The VisionMax Ultra fits perfectly into my modern living room decor. The slim design and minimalistic bezels make it look sleek and stylish. The TV is a seamless addition to my home, and it never fails to impress my guests.', metadata={'source': './tv-reviews.csv', 'row': 12}), Document(page_content=\"TV Name: VisionMax Ultra\\nReview Title: Impressive Smart Features\\nReview Rating: 8\\nReview Text: The VisionMax Ultra comes loaded with impressive smart features. The user interface is intuitive and easy to navigate. The TV seamlessly integrates with various streaming platforms, providing a hassle-free entertainment experience. It's like having a smart hub at my fingertips.\", metadata={'source': './tv-reviews.csv', 'row': 13}), Document(page_content=\"TV Name: VisionMax Ultra\\nReview Title: Excellent Picture Clarity\\nReview Rating: 9\\nReview Text: The picture clarity of the VisionMax Ultra is simply outstanding. The images are sharp, and the colors are vivid. Whether I'm watching movies, sports, or playing games, the visuals are always stunning. This TV takes my viewing experience to a whole new level!\", metadata={'source': './tv-reviews.csv', 'row': 14}), Document(page_content=\"TV Name: VisionMax Ultra\\nReview Title: Insufficient HDMI Ports\\nReview Rating: 6\\nReview Text: One downside of the VisionMax Ultra is the limited number of HDMI ports. With the increasing number of HDMI devices, it's frustrating to constantly switch cables. I wish there were more ports to accommodate all my devices without the need for an HDMI switcher.\", metadata={'source': './tv-reviews.csv', 'row': 15}), Document(page_content='TV Name: VisionMax Ultra\\nReview Title: Easy Installation Process\\nReview Rating: 9\\nReview Text: Setting up the VisionMax Ultra was a breeze. The instructions provided were clear and concise, making the installation process quick and hassle-free. The TV also offers various mounting options, allowing me to choose the perfect placement for my viewing pleasure.', metadata={'source': './tv-reviews.csv', 'row': 16}), Document(page_content=\"TV Name: VisionMax Ultra\\nReview Title: Immersive Audio Experience\\nReview Rating: 10\\nReview Text: The VisionMax Ultra delivers an immersive audio experience. The built-in speakers produce clear and well-balanced sound. The Dolby Atmos technology adds depth and dimension to the audio, making it feel like I'm in a theater. I'm thoroughly impressed!\", metadata={'source': './tv-reviews.csv', 'row': 17}), Document(page_content=\"TV Name: VisionMax Ultra\\nReview Title: Unresponsive Remote Control\\nReview Rating: 4\\nReview Text: One major drawback of the VisionMax Ultra is the unresponsive remote control. It often takes multiple presses for the TV to register the command. It's frustrating, especially when navigating through menus or adjusting settings. The remote control definitely needs improvement.\", metadata={'source': './tv-reviews.csv', 'row': 18}), Document(page_content='TV Name: VisionMax Ultra\\nReview Title: Value for Money\\nReview Rating: 8\\nReview Text: The VisionMax Ultra offers exceptional value for money. Compared to other high-end TVs in the market, it provides similar performance at a more affordable price. The picture quality and smart features make it a worthwhile investment. Highly recommended!', metadata={'source': './tv-reviews.csv', 'row': 19})]\n"
     ]
    }
   ],
   "source": [
    "# TODO: load reviews from tv-reviews.csv\n",
    "loader = CSVLoader(file_path='./tv-reviews.csv')\n",
    "data = loader.load()\n",
    "print(data)"
   ]
  },
  {
   "cell_type": "markdown",
   "metadata": {},
   "source": [
    "Then, let's initialize our LLM"
   ]
  },
  {
   "cell_type": "code",
   "execution_count": 8,
   "metadata": {},
   "outputs": [
    {
     "name": "stderr",
     "output_type": "stream",
     "text": [
      "/opt/venv/lib/python3.10/site-packages/langchain/llms/openai.py:202: UserWarning: You are trying to use a chat model. This way of initializing it is no longer supported. Instead, please use: `from langchain.chat_models import ChatOpenAI`\n",
      "  warnings.warn(\n",
      "/opt/venv/lib/python3.10/site-packages/langchain/llms/openai.py:790: UserWarning: You are trying to use a chat model. This way of initializing it is no longer supported. Instead, please use: `from langchain.chat_models import ChatOpenAI`\n",
      "  warnings.warn(\n"
     ]
    }
   ],
   "source": [
    "# TODO: initialize OpenAI object with your API key\n",
    "from langchain.llms import OpenAI\n",
    "\n",
    "import os\n",
    "os.environ[\"OPENAI_API_KEY\"] = \"\"\n",
    "os.environ[\"OPENAI_API_BASE\"] = \"https://openai.vocareum.com/v1\"\n",
    "model_name= 'gpt-3.5-turbo'\n",
    "llm = OpenAI(model_name=model_name,temperature=0)\n"
   ]
  },
  {
   "cell_type": "markdown",
   "metadata": {},
   "source": [
    "Now, let's setup our parser and a template  - \n",
    "\n",
    "**Note**  that since recording, the code to initialize the model has been updated to \n",
    "\n",
    "`llm = ChatOpenAI()`"
   ]
  },
  {
   "cell_type": "code",
   "execution_count": 9,
   "metadata": {},
   "outputs": [
    {
     "name": "stdout",
     "output_type": "stream",
     "text": [
      "The output should be formatted as a JSON instance that conforms to the JSON schema below.\n",
      "\n",
      "As an example, for the schema {\"properties\": {\"foo\": {\"title\": \"Foo\", \"description\": \"a list of strings\", \"type\": \"array\", \"items\": {\"type\": \"string\"}}}, \"required\": [\"foo\"]}\n",
      "the object {\"foo\": [\"bar\", \"baz\"]} is a well-formatted instance of the schema. The object {\"properties\": {\"foo\": [\"bar\", \"baz\"]}} is not well-formatted.\n",
      "\n",
      "Here is the output schema:\n",
      "```\n",
      "{\"properties\": {\"positives\": {\"title\": \"Positives\", \"description\": \"index of a positive TV review, starting from 0\", \"type\": \"array\", \"items\": {\"type\": \"integer\", \"minimum\": 0}}, \"negatives\": {\"title\": \"Negatives\", \"description\": \"index of a negative TV review, starting from 0\", \"type\": \"array\", \"items\": {\"type\": \"integer\", \"minimum\": 0}}}, \"required\": [\"positives\", \"negatives\"]}\n",
      "```\n"
     ]
    }
   ],
   "source": [
    "class ReviewSentiment(BaseModel):\n",
    "    positives: List[NonNegativeInt] = Field(description=\"index of a positive TV review, starting from 0\")\n",
    "    negatives: List[NonNegativeInt] = Field(description=\"index of a negative TV review, starting from 0\")\n",
    "        \n",
    "parser = PydanticOutputParser(pydantic_object=ReviewSentiment)\n",
    "# TODO: setup a template with partial and input variables\n",
    "print(parser.get_format_instructions())"
   ]
  },
  {
   "cell_type": "markdown",
   "metadata": {},
   "source": [
    "Pick 3 sample reviews to classify - LLMs have a limited context window they can work with. In later exercises, we'll see how to deal with that differently"
   ]
  },
  {
   "cell_type": "code",
   "execution_count": 18,
   "metadata": {},
   "outputs": [
    {
     "name": "stdout",
     "output_type": "stream",
     "text": [
      "\n",
      "            Classify TV reviews provided in the context into positive and negative.\n",
      "            Only use the reviews provided in this context, do not make up new reviews or use any existing information you know bout these TVs.\n",
      "            If there is no positive or negative reviews , output an emply JSON array\n",
      "\n",
      "\n",
      "The output should be formatted as a JSON instance that conforms to the JSON schema below.\n",
      "\n",
      "As an example, for the schema {\"properties\": {\"foo\": {\"title\": \"Foo\", \"description\": \"a list of strings\", \"type\": \"array\", \"items\": {\"type\": \"string\"}}}, \"required\": [\"foo\"]}\n",
      "the object {\"foo\": [\"bar\", \"baz\"]} is a well-formatted instance of the schema. The object {\"properties\": {\"foo\": [\"bar\", \"baz\"]}} is not well-formatted.\n",
      "\n",
      "Here is the output schema:\n",
      "```\n",
      "{\"properties\": {\"positives\": {\"title\": \"Positives\", \"description\": \"index of a positive TV review, starting from 0\", \"type\": \"array\", \"items\": {\"type\": \"integer\", \"minimum\": 0}}, \"negatives\": {\"title\": \"Negatives\", \"description\": \"index of a negative TV review, starting from 0\", \"type\": \"array\", \"items\": {\"type\": \"integer\", \"minimum\": 0}}}, \"required\": [\"positives\", \"negatives\"]}\n",
      "```\n",
      "Context:TV Name: Imagix Pro\n",
      "Review Title: Easy Setup and Navigation\n",
      "Review Rating: 9\n",
      "Review Text: Setting up the Imagix Pro was a breeze. The instructions were clear and the TV guided me through the process smoothly. The interface is intuitive and easy to navigate. I love how seamless it is to switch between different apps and inputs. This TV has made my life so much simpler!\n",
      "TV Name: VisionMax Ultra\n",
      "Review Title: Easy Installation Process\n",
      "Review Rating: 9\n",
      "Review Text: Setting up the VisionMax Ultra was a breeze. The instructions provided were clear and concise, making the installation process quick and hassle-free. The TV also offers various mounting options, allowing me to choose the perfect placement for my viewing pleasure.\n",
      "TV Name: VisionMax Ultra\n",
      "Review Title: Sleek and Modern\n",
      "Review Rating: 9\n",
      "Review Text: The VisionMax Ultra fits perfectly into my modern living room decor. The slim design and minimalistic bezels make it look sleek and stylish. The TV is a seamless addition to my home, and it never fails to impress my guests.\n"
     ]
    }
   ],
   "source": [
    "# TODO: pick 3 random reviews and save them into reviews_to_classify variable\n",
    "prompt = PromptTemplate(\n",
    "         template=\"{question}\\n{format_instructions}\\nContext:{context}\",\n",
    "         input_variables =[\"question\",\"context\"],\n",
    "         partial_variables = {\"format_instructions\":parser.get_format_instructions},)\n",
    "\n",
    "question = \"\"\"\n",
    "            Classify TV reviews provided in the context into positive and negative.\n",
    "            Only use the reviews provided in this context, do not make up new reviews or use any existing information you know bout these TVs.\n",
    "            If there is no positive or negative reviews , output an emply JSON array\n",
    "\n",
    "\"\"\"\n",
    "\n",
    "reviews_to_classify = sample(data,3)\n",
    "context ='\\n'.join(review.page_content for review in reviews_to_classify)\n",
    "\n",
    "query = prompt.format(context=context,question=question)\n",
    "print(query)\n"
   ]
  },
  {
   "cell_type": "markdown",
   "metadata": {},
   "source": [
    "# generate textual prompt from the prompt template\n",
    "question = \"\"\"\n",
    "    Review TVs provided in the context. \n",
    "    Only use the reviews provided in this context, do not make up new reviews or use any existing information you know about these TVs. \n",
    "    If there are no positive or negative reviews, output an empty JSON array. \n",
    "\"\"\"\n",
    "query = prompt.format(context = context, question = question)"
   ]
  },
  {
   "cell_type": "markdown",
   "metadata": {},
   "source": [
    "Finally, let's send our query to LLM and use the parser we setup to parse an output into a Python object\n",
    "\n",
    "**NOTE**: Since recording the code to feed the query to the llm has been updated to\n",
    "\n",
    "`llm.predict(query)`"
   ]
  },
  {
   "cell_type": "code",
   "execution_count": 21,
   "metadata": {},
   "outputs": [
    {
     "name": "stdout",
     "output_type": "stream",
     "text": [
      "{\n",
      "    \"positives\": [0, 1, 2],\n",
      "    \"negatives\": []\n",
      "}\n",
      "positives=[0, 1, 2] negatives=[]\n",
      "Positives:\n",
      "TV Name: Imagix Pro\n",
      "Review Title: Easy Setup and Navigation\n",
      "Review Rating: 9\n",
      "Review Text: Setting up the Imagix Pro was a breeze. The instructions were clear and the TV guided me through the process smoothly. The interface is intuitive and easy to navigate. I love how seamless it is to switch between different apps and inputs. This TV has made my life so much simpler!\n",
      "TV Name: VisionMax Ultra\n",
      "Review Title: Easy Installation Process\n",
      "Review Rating: 9\n",
      "Review Text: Setting up the VisionMax Ultra was a breeze. The instructions provided were clear and concise, making the installation process quick and hassle-free. The TV also offers various mounting options, allowing me to choose the perfect placement for my viewing pleasure.\n",
      "TV Name: VisionMax Ultra\n",
      "Review Title: Sleek and Modern\n",
      "Review Rating: 9\n",
      "Review Text: The VisionMax Ultra fits perfectly into my modern living room decor. The slim design and minimalistic bezels make it look sleek and stylish. The TV is a seamless addition to my home, and it never fails to impress my guests.\n",
      "Negatives:\n",
      "\n"
     ]
    }
   ],
   "source": [
    "# TODO: query LLM, then parse output into the result variable\n",
    "\n",
    "output = llm(query)\n",
    "print(output)\n",
    "\n",
    "result = parser.parse(output)\n",
    "print(result)\n",
    "\n",
    "\n",
    "print(\"Positives:\\n\" + \"\\n\".join([reviews_to_classify[i].page_content for i in result.positives]))\n",
    "print(\"Negatives:\\n\" + \"\\n\".join([reviews_to_classify[i].page_content for i in result.negatives]))"
   ]
  },
  {
   "cell_type": "code",
   "execution_count": null,
   "metadata": {},
   "outputs": [],
   "source": []
  }
 ],
 "metadata": {
  "kernelspec": {
   "display_name": "Python 3 (ipykernel)",
   "language": "python",
   "name": "python3"
  },
  "language_info": {
   "codemirror_mode": {
    "name": "ipython",
    "version": 3
   },
   "file_extension": ".py",
   "mimetype": "text/x-python",
   "name": "python",
   "nbconvert_exporter": "python",
   "pygments_lexer": "ipython3",
   "version": "3.10.13"
  }
 },
 "nbformat": 4,
 "nbformat_minor": 2
}
