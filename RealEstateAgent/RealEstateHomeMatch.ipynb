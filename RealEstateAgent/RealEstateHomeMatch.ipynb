{
 "cells": [
  {
   "cell_type": "markdown",
   "id": "a108af04",
   "metadata": {},
   "source": [
    "This is a starter notebook for the project, you'll have to import the libraries you'll need, you can find a list of the ones available in this workspace in the requirements.txt file in this workspace. "
   ]
  },
  {
   "cell_type": "markdown",
   "id": "c92a62f6",
   "metadata": {},
   "source": [
    "# Step 1: Setting Up the Python Application"
   ]
  },
  {
   "cell_type": "code",
   "execution_count": null,
   "id": "c7939dc9",
   "metadata": {
    "scrolled": true
   },
   "outputs": [],
   "source": [
    "pip install pandas\n"
   ]
  },
  {
   "cell_type": "code",
   "execution_count": null,
   "id": "6df2e5dc",
   "metadata": {},
   "outputs": [],
   "source": [
    "pip install langchain-core"
   ]
  },
  {
   "cell_type": "code",
   "execution_count": null,
   "id": "444115c2",
   "metadata": {},
   "outputs": [],
   "source": [
    "# We don't have access to install libraries in the workspace\n",
    "# Please make sure those are installed\n",
    "!pip install -q -r ./requirements.txt"
   ]
  },
  {
   "cell_type": "code",
   "execution_count": 1,
   "id": "7e3e3278",
   "metadata": {},
   "outputs": [],
   "source": [
    "import os, json\n",
    "from IPython.display import Markdown, display\n",
    "import pandas as pd\n",
    "import numpy as np\n",
    "from pprint import pprint\n",
    "\n",
    "from dotenv import load_dotenv, find_dotenv\n",
    "# load up the .env file with secrets\n",
    "#_ = load_dotenv(find_dotenv())\n",
    "\n",
    "from pydantic import BaseModel, Field, NonNegativeInt\n",
    "from typing import List, Optional, Type\n",
    "\n",
    "from langchain.llms import OpenAI\n",
    "from langchain.chat_models import ChatOpenAI\n",
    "from langchain.vectorstores import Chroma\n",
    "from langchain.embeddings.openai import OpenAIEmbeddings\n",
    "from langchain.output_parsers import PydanticOutputParser\n",
    "from langchain.document_loaders import CSVLoader  #JSONLoader\n",
    "from langchain.text_splitter import RecursiveCharacterTextSplitter, CharacterTextSplitter\n",
    "from langchain.output_parsers import ResponseSchema\n",
    "from langchain.output_parsers import StructuredOutputParser\n",
    "from langchain.prompts import (ChatPromptTemplate,\n",
    "                               PromptTemplate,\n",
    "                               SystemMessagePromptTemplate,\n",
    "                               AIMessagePromptTemplate,\n",
    "                               HumanMessagePromptTemplate,\n",
    "                               )\n",
    "from langchain.schema import AIMessage, HumanMessage, SystemMessage, FunctionMessage\n",
    "from langchain.utils.openai_functions import convert_pydantic_to_openai_function\n",
    "from langchain.agents.output_parsers import OpenAIFunctionsAgentOutputParser\n",
    "from langchain.tools import BaseTool, format_tool_to_openai_function\n",
    "from langchain import LLMChain\n",
    "\n",
    "import openai"
   ]
  },
  {
   "cell_type": "code",
   "execution_count": 2,
   "id": "ead4e2f0",
   "metadata": {},
   "outputs": [],
   "source": [
    "\n",
    "from langchain.llms import OpenAI\n",
    "from langchain.prompts import PromptTemplate\n",
    "from langchain.prompts.few_shot import FewShotPromptTemplate\n",
    "\n",
    "# Environment variables\n",
    "os.environ[\"OPENAI_API_KEY\"] = \"voc-51499078612667733770986696158922c6d0.58646338\"\n",
    "os.environ[\"OPENAI_API_BASE\"] = \"https://openai.vocareum.com/v1\"\n",
    "model_name = \"gpt-3.5-turbo\"\n"
   ]
  },
  {
   "cell_type": "markdown",
   "id": "614298bf",
   "metadata": {},
   "source": [
    "# Step 2: Generating Real Estate Listings\n",
    "Generate real estate listings using a Large Language Model. Generate at least 10 listings This can involve creating prompts for the LLM to produce descriptions of various properties"
   ]
  },
  {
   "cell_type": "code",
   "execution_count": 3,
   "id": "b16160dc",
   "metadata": {},
   "outputs": [
    {
     "name": "stderr",
     "output_type": "stream",
     "text": [
      "/home/student/.local/lib/python3.10/site-packages/langchain_community/llms/openai.py:249: UserWarning: You are trying to use a chat model. This way of initializing it is no longer supported. Instead, please use: `from langchain_community.chat_models import ChatOpenAI`\n",
      "  warnings.warn(\n",
      "/home/student/.local/lib/python3.10/site-packages/langchain_community/llms/openai.py:1070: UserWarning: You are trying to use a chat model. This way of initializing it is no longer supported. Instead, please use: `from langchain_community.chat_models import ChatOpenAI`\n",
      "  warnings.warn(\n"
     ]
    }
   ],
   "source": [
    "from langchain.llms import OpenAI\n",
    "from langchain.llms import OpenAI\n",
    "\n",
    "llm = OpenAI(model_name=model_name, temperature=0)\n",
    "\n",
    "SYSTEM_PROMPT = \"Generate ten realistic real estate listings from diverse neighborhoods.\"\n",
    "PROMPT = \\\n",
    "\"\"\"\n",
    "Here's a sample listing:\n",
    "\n",
    "Neighborhood: Green Oaks\n",
    "Price ($): 800,000\n",
    "Bedrooms: 3\n",
    "Bathrooms: 2\n",
    "House Size (sqft): 2,000\n",
    "Description: Welcome to this eco-friendly oasis nestled in the heart of Green Oaks. This charming 3-bedroom, 2-bathroom home boasts energy-efficient features such as solar panels and a well-insulated structure. Natural light floods the living spaces, highlighting the beautiful hardwood floors and eco-conscious finishes. The open-concept kitchen and dining area lead to a spacious backyard with a vegetable garden, perfect for the eco-conscious family. Embrace sustainable living without compromising on style in this Green Oaks gem.\n",
    "\n",
    "Example Entry Format:\n",
    "Neighborhood,Price,Bedrooms,Bathrooms,House Size,Description\n",
    "Green Oaks,\"$800,000\",3,2,\"2,000 sqft\",\"Nestled in Green Oaks, this eco-friendly haven features a 3-bedroom, 2-bathroom layout with solar panels and efficient insulation. Highlights include abundant natural light, hardwood floors, and an open-concept kitchen that leads to a lush backyard, embodying a sanctuary for eco-conscious living. The neighborhood of Green Oaks is celebrated for its vibrant and environmentally-aware community, boasting organic stores, community gardens, and convenient transit options, rendering it perfect for those prioritizing sustainability and community engagement\".\n",
    "\n",
    "\n",
    "\"\"\"\n",
    "\n"
   ]
  },
  {
   "cell_type": "code",
   "execution_count": 4,
   "id": "f49a66c0",
   "metadata": {},
   "outputs": [],
   "source": [
    "from langchain.output_parsers import PydanticOutputParser\n",
    "from langchain_core.pydantic_v1 import BaseModel, Field, NonNegativeInt\n",
    "from typing import List\n",
    "\n",
    "class RealEstateListing(BaseModel):\n",
    "    neighborhood: str = Field(description=\"Name of the neighborhood\")\n",
    "    price: NonNegativeInt = Field(description=\"Price of the property in USD\")\n",
    "    bedrooms: NonNegativeInt = Field(description=\"Number of bedrooms in the property\")\n",
    "    bathrooms: NonNegativeInt = Field(description=\"Number of bathrooms in the property\")\n",
    "    house_size: NonNegativeInt = Field(description=\"Size of the property in square feet\")\n",
    "    description: str = Field(description=\"Description of the property.\")   \n",
    "    #neighborhood_description: str = Field(description=\"Description of the neighborhood.\")  \n",
    "\n",
    "class ListingCollection(BaseModel):\n",
    "    listing: List[RealEstateListing] = Field(description=\"List of available real estate\")\n",
    "        \n",
    "parser = PydanticOutputParser(pydantic_object=ListingCollection)"
   ]
  },
  {
   "cell_type": "code",
   "execution_count": 5,
   "id": "b91ac54f",
   "metadata": {
    "scrolled": true
   },
   "outputs": [
    {
     "name": "stdout",
     "output_type": "stream",
     "text": [
      "Generate ten realistic real estate listings from diverse neighborhoods.\n",
      "\n",
      "Here's a sample listing:\n",
      "\n",
      "Neighborhood: Green Oaks\n",
      "Price ($): 800,000\n",
      "Bedrooms: 3\n",
      "Bathrooms: 2\n",
      "House Size (sqft): 2,000\n",
      "Description: Welcome to this eco-friendly oasis nestled in the heart of Green Oaks. This charming 3-bedroom, 2-bathroom home boasts energy-efficient features such as solar panels and a well-insulated structure. Natural light floods the living spaces, highlighting the beautiful hardwood floors and eco-conscious finishes. The open-concept kitchen and dining area lead to a spacious backyard with a vegetable garden, perfect for the eco-conscious family. Embrace sustainable living without compromising on style in this Green Oaks gem.\n",
      "\n",
      "Example Entry Format:\n",
      "Neighborhood,Price,Bedrooms,Bathrooms,House Size,Description\n",
      "Green Oaks,\"$800,000\",3,2,\"2,000 sqft\",\"Nestled in Green Oaks, this eco-friendly haven features a 3-bedroom, 2-bathroom layout with solar panels and efficient insulation. Highlights include abundant natural light, hardwood floors, and an open-concept kitchen that leads to a lush backyard, embodying a sanctuary for eco-conscious living. The neighborhood of Green Oaks is celebrated for its vibrant and environmentally-aware community, boasting organic stores, community gardens, and convenient transit options, rendering it perfect for those prioritizing sustainability and community engagement\".\n",
      "\n",
      "\n",
      "\n",
      "The output should be formatted as a JSON instance that conforms to the JSON schema below.\n",
      "\n",
      "As an example, for the schema {\"properties\": {\"foo\": {\"title\": \"Foo\", \"description\": \"a list of strings\", \"type\": \"array\", \"items\": {\"type\": \"string\"}}}, \"required\": [\"foo\"]}\n",
      "the object {\"foo\": [\"bar\", \"baz\"]} is a well-formatted instance of the schema. The object {\"properties\": {\"foo\": [\"bar\", \"baz\"]}} is not well-formatted.\n",
      "\n",
      "Here is the output schema:\n",
      "```\n",
      "{\"properties\": {\"listing\": {\"title\": \"Listing\", \"description\": \"List of available real estate\", \"type\": \"array\", \"items\": {\"$ref\": \"#/definitions/RealEstateListing\"}}}, \"required\": [\"listing\"], \"definitions\": {\"RealEstateListing\": {\"title\": \"RealEstateListing\", \"type\": \"object\", \"properties\": {\"neighborhood\": {\"title\": \"Neighborhood\", \"description\": \"Name of the neighborhood\", \"type\": \"string\"}, \"price\": {\"title\": \"Price\", \"description\": \"Price of the property in USD\", \"minimum\": 0, \"type\": \"integer\"}, \"bedrooms\": {\"title\": \"Bedrooms\", \"description\": \"Number of bedrooms in the property\", \"minimum\": 0, \"type\": \"integer\"}, \"bathrooms\": {\"title\": \"Bathrooms\", \"description\": \"Number of bathrooms in the property\", \"minimum\": 0, \"type\": \"integer\"}, \"house_size\": {\"title\": \"House Size\", \"description\": \"Size of the property in square feet\", \"minimum\": 0, \"type\": \"integer\"}, \"description\": {\"title\": \"Description\", \"description\": \"Description of the property.\", \"type\": \"string\"}}, \"required\": [\"neighborhood\", \"price\", \"bedrooms\", \"bathrooms\", \"house_size\", \"description\"]}}}\n",
      "```\n",
      "\n"
     ]
    }
   ],
   "source": [
    "from langchain.prompts import PromptTemplate\n",
    "\n",
    "prompt = PromptTemplate(\n",
    "    template=\"{instruction}\\n{sample}\\n{format_instructions}\\n\",\n",
    "    input_variables=[\"instruction\", \"sample\"],\n",
    "    partial_variables={\"format_instructions\": parser.get_format_instructions},\n",
    ")\n",
    "query = prompt.format(instruction = SYSTEM_PROMPT, sample = PROMPT)\n",
    "print(query)"
   ]
  },
  {
   "cell_type": "markdown",
   "id": "0f6a6973",
   "metadata": {},
   "source": [
    "# Load LLM Model"
   ]
  },
  {
   "cell_type": "code",
   "execution_count": 6,
   "id": "91158b08",
   "metadata": {},
   "outputs": [
    {
     "name": "stderr",
     "output_type": "stream",
     "text": [
      "/home/student/.local/lib/python3.10/site-packages/langchain_community/llms/openai.py:249: UserWarning: You are trying to use a chat model. This way of initializing it is no longer supported. Instead, please use: `from langchain_community.chat_models import ChatOpenAI`\n",
      "  warnings.warn(\n",
      "/home/student/.local/lib/python3.10/site-packages/langchain_community/llms/openai.py:1070: UserWarning: You are trying to use a chat model. This way of initializing it is no longer supported. Instead, please use: `from langchain_community.chat_models import ChatOpenAI`\n",
      "  warnings.warn(\n"
     ]
    }
   ],
   "source": [
    "temperature = 0.0\n",
    "llm = OpenAI(model_name=model_name, temperature=temperature, max_tokens = 500)"
   ]
  },
  {
   "cell_type": "code",
   "execution_count": 7,
   "id": "888cb7e2",
   "metadata": {},
   "outputs": [
    {
     "name": "stderr",
     "output_type": "stream",
     "text": [
      "/home/student/.local/lib/python3.10/site-packages/langchain_core/_api/deprecation.py:119: LangChainDeprecationWarning: The method `BaseLLM.__call__` was deprecated in langchain-core 0.1.7 and will be removed in 0.3.0. Use invoke instead.\n",
      "  warn_deprecated(\n"
     ]
    }
   ],
   "source": [
    "output = llm(query)"
   ]
  },
  {
   "cell_type": "code",
   "execution_count": 8,
   "id": "0655e172",
   "metadata": {},
   "outputs": [
    {
     "data": {
      "text/html": [
       "<div>\n",
       "<style scoped>\n",
       "    .dataframe tbody tr th:only-of-type {\n",
       "        vertical-align: middle;\n",
       "    }\n",
       "\n",
       "    .dataframe tbody tr th {\n",
       "        vertical-align: top;\n",
       "    }\n",
       "\n",
       "    .dataframe thead th {\n",
       "        text-align: right;\n",
       "    }\n",
       "</style>\n",
       "<table border=\"1\" class=\"dataframe\">\n",
       "  <thead>\n",
       "    <tr style=\"text-align: right;\">\n",
       "      <th></th>\n",
       "      <th>neighborhood</th>\n",
       "      <th>price</th>\n",
       "      <th>bedrooms</th>\n",
       "      <th>bathrooms</th>\n",
       "      <th>house_size</th>\n",
       "      <th>description</th>\n",
       "    </tr>\n",
       "  </thead>\n",
       "  <tbody>\n",
       "    <tr>\n",
       "      <th>0</th>\n",
       "      <td>Downtown</td>\n",
       "      <td>1200000</td>\n",
       "      <td>4</td>\n",
       "      <td>3</td>\n",
       "      <td>2500</td>\n",
       "      <td>Luxurious 4-bedroom, 3-bathroom penthouse in t...</td>\n",
       "    </tr>\n",
       "    <tr>\n",
       "      <th>1</th>\n",
       "      <td>Suburbia Estates</td>\n",
       "      <td>600000</td>\n",
       "      <td>5</td>\n",
       "      <td>4</td>\n",
       "      <td>3000</td>\n",
       "      <td>Welcome to this charming 5-bedroom, 4-bathroom...</td>\n",
       "    </tr>\n",
       "    <tr>\n",
       "      <th>2</th>\n",
       "      <td>Waterfront District</td>\n",
       "      <td>1800000</td>\n",
       "      <td>3</td>\n",
       "      <td>3</td>\n",
       "      <td>2200</td>\n",
       "      <td>Stunning waterfront property with 3 bedrooms a...</td>\n",
       "    </tr>\n",
       "    <tr>\n",
       "      <th>3</th>\n",
       "      <td>Historic Old Town</td>\n",
       "      <td>900000</td>\n",
       "      <td>2</td>\n",
       "      <td>2</td>\n",
       "      <td>1800</td>\n",
       "      <td>Quaint 2-bedroom, 2-bathroom cottage in the hi...</td>\n",
       "    </tr>\n",
       "    <tr>\n",
       "      <th>4</th>\n",
       "      <td>Mountain View</td>\n",
       "      <td>750000</td>\n",
       "      <td>3</td>\n",
       "      <td>2</td>\n",
       "      <td>2000</td>\n",
       "      <td>Escape to this peaceful 3-bedroom, 2-bathroom ...</td>\n",
       "    </tr>\n",
       "  </tbody>\n",
       "</table>\n",
       "</div>"
      ],
      "text/plain": [
       "          neighborhood    price  bedrooms  bathrooms  house_size  \\\n",
       "0             Downtown  1200000         4          3        2500   \n",
       "1     Suburbia Estates   600000         5          4        3000   \n",
       "2  Waterfront District  1800000         3          3        2200   \n",
       "3    Historic Old Town   900000         2          2        1800   \n",
       "4        Mountain View   750000         3          2        2000   \n",
       "\n",
       "                                         description  \n",
       "0  Luxurious 4-bedroom, 3-bathroom penthouse in t...  \n",
       "1  Welcome to this charming 5-bedroom, 4-bathroom...  \n",
       "2  Stunning waterfront property with 3 bedrooms a...  \n",
       "3  Quaint 2-bedroom, 2-bathroom cottage in the hi...  \n",
       "4  Escape to this peaceful 3-bedroom, 2-bathroom ...  "
      ]
     },
     "execution_count": 8,
     "metadata": {},
     "output_type": "execute_result"
    }
   ],
   "source": [
    "from fastapi.encoders import jsonable_encoder\n",
    "import pandas as pd\n",
    "\n",
    "result = parser.parse(output)\n",
    "df = pd.DataFrame(jsonable_encoder(result.listing))\n",
    "df.head()"
   ]
  },
  {
   "cell_type": "markdown",
   "id": "dd934d21",
   "metadata": {},
   "source": [
    "### Store the RealEstate Listing to the file."
   ]
  },
  {
   "cell_type": "code",
   "execution_count": 21,
   "id": "e4330831",
   "metadata": {},
   "outputs": [],
   "source": [
    "df.to_csv('RealEstate_listings.csv',index_label = 'id')"
   ]
  },
  {
   "cell_type": "markdown",
   "id": "dd707754",
   "metadata": {},
   "source": [
    "# Step 3: Storing Listings in a Vector Database\n",
    "Vector Database Setup: Initialize and configure ChromaDB or a similar vector database to store real estate listings.\n",
    "Generating and Storing Embeddings: Convert the LLM-generated listings into suitable embeddings that capture the semantic content of each listing, and store these embeddings in the vector database."
   ]
  },
  {
   "cell_type": "code",
   "execution_count": 25,
   "id": "c5324910",
   "metadata": {},
   "outputs": [
    {
     "data": {
      "text/html": [
       "<div>\n",
       "<style scoped>\n",
       "    .dataframe tbody tr th:only-of-type {\n",
       "        vertical-align: middle;\n",
       "    }\n",
       "\n",
       "    .dataframe tbody tr th {\n",
       "        vertical-align: top;\n",
       "    }\n",
       "\n",
       "    .dataframe thead th {\n",
       "        text-align: right;\n",
       "    }\n",
       "</style>\n",
       "<table border=\"1\" class=\"dataframe\">\n",
       "  <thead>\n",
       "    <tr style=\"text-align: right;\">\n",
       "      <th></th>\n",
       "      <th>id</th>\n",
       "      <th>id.1</th>\n",
       "      <th>neighborhood</th>\n",
       "      <th>price</th>\n",
       "      <th>bedrooms</th>\n",
       "      <th>bathrooms</th>\n",
       "      <th>house_size</th>\n",
       "      <th>description</th>\n",
       "    </tr>\n",
       "  </thead>\n",
       "  <tbody>\n",
       "    <tr>\n",
       "      <th>0</th>\n",
       "      <td>0</td>\n",
       "      <td>0</td>\n",
       "      <td>Downtown</td>\n",
       "      <td>1200000</td>\n",
       "      <td>4</td>\n",
       "      <td>3</td>\n",
       "      <td>2500</td>\n",
       "      <td>Luxurious 4-bedroom, 3-bathroom penthouse in t...</td>\n",
       "    </tr>\n",
       "    <tr>\n",
       "      <th>1</th>\n",
       "      <td>1</td>\n",
       "      <td>1</td>\n",
       "      <td>Suburbia Estates</td>\n",
       "      <td>600000</td>\n",
       "      <td>5</td>\n",
       "      <td>4</td>\n",
       "      <td>3000</td>\n",
       "      <td>Welcome to this charming 5-bedroom, 4-bathroom...</td>\n",
       "    </tr>\n",
       "    <tr>\n",
       "      <th>2</th>\n",
       "      <td>2</td>\n",
       "      <td>2</td>\n",
       "      <td>Waterfront District</td>\n",
       "      <td>1800000</td>\n",
       "      <td>3</td>\n",
       "      <td>3</td>\n",
       "      <td>2200</td>\n",
       "      <td>Stunning waterfront property with 3 bedrooms a...</td>\n",
       "    </tr>\n",
       "    <tr>\n",
       "      <th>3</th>\n",
       "      <td>3</td>\n",
       "      <td>3</td>\n",
       "      <td>Historic Old Town</td>\n",
       "      <td>900000</td>\n",
       "      <td>2</td>\n",
       "      <td>2</td>\n",
       "      <td>1800</td>\n",
       "      <td>Quaint 2-bedroom, 2-bathroom cottage in the hi...</td>\n",
       "    </tr>\n",
       "    <tr>\n",
       "      <th>4</th>\n",
       "      <td>4</td>\n",
       "      <td>4</td>\n",
       "      <td>Mountain View</td>\n",
       "      <td>750000</td>\n",
       "      <td>3</td>\n",
       "      <td>2</td>\n",
       "      <td>2000</td>\n",
       "      <td>Escape to this peaceful 3-bedroom, 2-bathroom ...</td>\n",
       "    </tr>\n",
       "  </tbody>\n",
       "</table>\n",
       "</div>"
      ],
      "text/plain": [
       "   id  id.1         neighborhood    price  bedrooms  bathrooms  house_size  \\\n",
       "0   0     0             Downtown  1200000         4          3        2500   \n",
       "1   1     1     Suburbia Estates   600000         5          4        3000   \n",
       "2   2     2  Waterfront District  1800000         3          3        2200   \n",
       "3   3     3    Historic Old Town   900000         2          2        1800   \n",
       "4   4     4        Mountain View   750000         3          2        2000   \n",
       "\n",
       "                                         description  \n",
       "0  Luxurious 4-bedroom, 3-bathroom penthouse in t...  \n",
       "1  Welcome to this charming 5-bedroom, 4-bathroom...  \n",
       "2  Stunning waterfront property with 3 bedrooms a...  \n",
       "3  Quaint 2-bedroom, 2-bathroom cottage in the hi...  \n",
       "4  Escape to this peaceful 3-bedroom, 2-bathroom ...  "
      ]
     },
     "execution_count": 25,
     "metadata": {},
     "output_type": "execute_result"
    }
   ],
   "source": [
    "df=pd.read_csv('RealEstate_listings.csv')\n",
    "df.head()"
   ]
  },
  {
   "cell_type": "code",
   "execution_count": 26,
   "id": "0b7b5d1d",
   "metadata": {
    "scrolled": true
   },
   "outputs": [
    {
     "name": "stdout",
     "output_type": "stream",
     "text": [
      "Split 5 documents into 14 chunks.\n",
      "Quaint 2-bedroom, 2-bathroom cottage in the historic Old Town neighborhood. This charming home features original hardwood floors, a cozy fireplace,\n",
      "{'id': '3', 'start_index': 0}\n",
      "Saved 14 chunks to data/vectordb/1.\n"
     ]
    }
   ],
   "source": [
    "from langchain.schema import Document\n",
    "import shutil\n",
    "# Configuration\n",
    "CHROMA_PATH = \"data/vectordb/1\"\n",
    "CSV_PATH = \"RealEstate_listings.csv\" \n",
    "\n",
    "df = pd.read_csv(CSV_PATH)\n",
    "documents = []\n",
    "for index, row in df.iterrows():\n",
    "    documents.append(Document(page_content=row['description'], metadata={'id': str(index)}))\n",
    "\n",
    "\n",
    "# Split Text\n",
    "text_splitter = RecursiveCharacterTextSplitter(\n",
    "    chunk_size=150,\n",
    "    chunk_overlap=100,\n",
    "    length_function=len,\n",
    "    add_start_index=True,\n",
    ")\n",
    "chunks = text_splitter.split_documents(documents)\n",
    "print(f\"Split {len(documents)} documents into {len(chunks)} chunks.\")\n",
    "\n",
    "if chunks:\n",
    "    document = chunks[10]\n",
    "    print(document.page_content)\n",
    "    print(document.metadata)\n",
    "\n",
    "# Save to Chroma\n",
    "if os.path.exists(CHROMA_PATH):\n",
    "    shutil.rmtree(CHROMA_PATH)\n",
    "\n",
    "db = Chroma.from_documents(\n",
    "    chunks, OpenAIEmbeddings(), persist_directory=CHROMA_PATH\n",
    ")\n",
    "db.persist()\n",
    "print(f\"Saved {len(chunks)} chunks to {CHROMA_PATH}.\")"
   ]
  },
  {
   "cell_type": "markdown",
   "id": "26ed422c",
   "metadata": {},
   "source": [
    "# Step 5: Implementing Semantic Search and Augmented Response Generation"
   ]
  },
  {
   "cell_type": "code",
   "execution_count": 27,
   "id": "e4496246",
   "metadata": {
    "scrolled": true
   },
   "outputs": [
    {
     "name": "stdout",
     "output_type": "stream",
     "text": [
      "Generated Prompt:\n",
      "Human: \n",
      "Answer the question based only on the following context:\n",
      "\n",
      "Estates. This well-maintained property boasts a large backyard, perfect for outdoor gatherings, and is located near top-rated schools and parks.\n",
      "\n",
      "---\n",
      "\n",
      "original hardwood floors, a cozy fireplace, and a beautifully landscaped garden. Walk to local shops, cafes, and galleries from this prime location.\n",
      "\n",
      "---\n",
      "\n",
      "in the family-friendly neighborhood of Suburbia Estates. This well-maintained property boasts a large backyard, perfect for outdoor gatherings, and\n",
      "\n",
      "---\n",
      "\n",
      "Given the context provided above, craft a response that not only answers the question Would like to buy home in calm neighbourhood, but also ensures that your explanation is distinct, captivating, and customized to align with the specified preferences. Strive to present your insights in a manner that resonates with the audience's interests and requirements\n",
      "\n",
      "Response: Based on the information provided, it sounds like the home in Suburbia Estates would be the perfect fit for someone looking to buy a home in a calm neighborhood. With its well-maintained property, large backyard for outdoor gatherings, and proximity to top-rated schools and parks, this location offers both tranquility and convenience. Additionally, the original hardwood floors, cozy fireplace, and beautifully landscaped garden add a touch of charm and character to the home. You'll also have the added bonus of being able to walk to local shops, cafes, and galleries from this prime location. Overall, this property in Suburbia Estates seems to tick all the boxes for someone seeking a peaceful and family-friendly neighborhood to call home.\n",
      "Sources: ['1', '3', '1']\n"
     ]
    }
   ],
   "source": [
    "PROMPT_TEMPLATE = \"\"\"\n",
    "Answer the question based only on the following context:\n",
    "\n",
    "{context}\n",
    "\n",
    "---\n",
    "\n",
    "Given the context provided above, craft a response that not only answers the question {question}, but also ensures that your explanation is distinct, captivating, and customized to align with the specified preferences. Strive to present your insights in a manner that resonates with the audience's interests and requirements\n",
    "\"\"\"\n",
    "\n",
    "query_text = \"Would like to buy home in calm neighbourhood\" \n",
    "\n",
    "# Prepare the DB.\n",
    "embedding_function = OpenAIEmbeddings()\n",
    "db = Chroma(persist_directory=CHROMA_PATH, embedding_function=embedding_function)\n",
    "\n",
    "# Search the DB.\n",
    "results = db.similarity_search_with_relevance_scores(query_text, k=3)\n",
    "if len(results) == 0 or results[0][1] < 0.7:\n",
    "    print(f\"Unable to find matching results.\")\n",
    "else:\n",
    "    context_text = \"\\n\\n---\\n\\n\".join([doc.page_content for doc, _score in results])\n",
    "    prompt_template = ChatPromptTemplate.from_template(PROMPT_TEMPLATE)\n",
    "    prompt = prompt_template.format(context=context_text, question=query_text)\n",
    "    print(f\"Generated Prompt:\\n{prompt}\")\n",
    "\n",
    "    model = ChatOpenAI()\n",
    "    response_text = model.predict(prompt)\n",
    "\n",
    "    sources = [doc.metadata.get(\"id\", None) for doc, _score in results]\n",
    "    formatted_response = f\"Response: {response_text}\\nSources: {sources}\"\n",
    "    print(formatted_response)"
   ]
  },
  {
   "cell_type": "markdown",
   "id": "56a0fecd",
   "metadata": {},
   "source": [
    "# Step 6: Personalizing Listing Descriptions ( Two Examples)"
   ]
  },
  {
   "cell_type": "code",
   "execution_count": 28,
   "id": "e5164769",
   "metadata": {},
   "outputs": [
    {
     "name": "stdout",
     "output_type": "stream",
     "text": [
      "Generated Prompt:\n",
      "Human: \n",
      "Answer the question based only on the following context:\n",
      "\n",
      "Estates. This well-maintained property boasts a large backyard, perfect for outdoor gatherings, and is located near top-rated schools and parks.\n",
      "\n",
      "---\n",
      "\n",
      "original hardwood floors, a cozy fireplace, and a beautifully landscaped garden. Walk to local shops, cafes, and galleries from this prime location.\n",
      "\n",
      "---\n",
      "\n",
      "Enjoy breathtaking views of the bay from every room, a private dock for your boat, and a spacious deck for entertaining guests.\n",
      "\n",
      "---\n",
      "\n",
      "Given the context provided above, craft a response that not only answers the question What are 3 most important things for you in choosing this property?, but also ensures that your explanation is distinct, captivating, and customized to align with the specified preferences. Strive to present your insights in a manner that resonates with the audience's interests and requirements\n",
      "\n",
      "Response: The three most important things for me in choosing this property are the large backyard for outdoor gatherings, the proximity to top-rated schools and parks, and the breathtaking views of the bay from every room. The well-maintained property with original hardwood floors, cozy fireplace, and beautifully landscaped garden is just the cherry on top. Not to mention the private dock for my boat and spacious deck for entertaining guests. This property truly offers the perfect balance of convenience, luxury, and natural beauty, making it an ideal choice for those who appreciate the finer things in life.\n",
      "Sources: ['1', '3', '2']\n"
     ]
    }
   ],
   "source": [
    "PROMPT_TEMPLATE = \"\"\"\n",
    "Answer the question based only on the following context:\n",
    "\n",
    "{context}\n",
    "\n",
    "---\n",
    "\n",
    "Given the context provided above, craft a response that not only answers the question {question}, but also ensures that your explanation is distinct, captivating, and customized to align with the specified preferences. Strive to present your insights in a manner that resonates with the audience's interests and requirements\n",
    "\"\"\"\n",
    "\n",
    "query_text = \"What are 3 most important things for you in choosing this property?\" \n",
    "\n",
    "# Prepare the DB.\n",
    "embedding_function = OpenAIEmbeddings()\n",
    "db = Chroma(persist_directory=CHROMA_PATH, embedding_function=embedding_function)\n",
    "\n",
    "# Search the DB.\n",
    "results = db.similarity_search_with_relevance_scores(query_text, k=3)\n",
    "if len(results) == 0 or results[0][1] < 0.7:\n",
    "    print(f\"Unable to find matching results.\")\n",
    "else:\n",
    "    context_text = \"\\n\\n---\\n\\n\".join([doc.page_content for doc, _score in results])\n",
    "    prompt_template = ChatPromptTemplate.from_template(PROMPT_TEMPLATE)\n",
    "    prompt = prompt_template.format(context=context_text, question=query_text)\n",
    "    print(f\"Generated Prompt:\\n{prompt}\")\n",
    "\n",
    "    model = ChatOpenAI()\n",
    "    response_text = model.predict(prompt)\n",
    "\n",
    "    sources = [doc.metadata.get(\"id\", None) for doc, _score in results]\n",
    "    formatted_response = f\"Response: {response_text}\\nSources: {sources}\"\n",
    "    print(formatted_response)"
   ]
  },
  {
   "cell_type": "code",
   "execution_count": 30,
   "id": "e283a8a4",
   "metadata": {},
   "outputs": [
    {
     "name": "stdout",
     "output_type": "stream",
     "text": [
      "Generated Prompt:\n",
      "Human: \n",
      "Answer the question based only on the following context:\n",
      "\n",
      "rooftop terrace. Enjoy the convenience of urban living with top-rated restaurants, shopping, and entertainment just steps away.\n",
      "\n",
      "---\n",
      "\n",
      "Estates. This well-maintained property boasts a large backyard, perfect for outdoor gatherings, and is located near top-rated schools and parks.\n",
      "\n",
      "---\n",
      "\n",
      "original hardwood floors, a cozy fireplace, and a beautifully landscaped garden. Walk to local shops, cafes, and galleries from this prime location.\n",
      "\n",
      "---\n",
      "\n",
      "Given the context provided above, craft a response that not only answers the question How urban do you want your neighborhood to be?, but also ensures that your explanation is distinct, captivating, and customized to align with the specified preferences. Strive to present your insights in a manner that resonates with the audience's interests and requirements\n",
      "\n",
      "Response: If you desire a neighborhood that offers the perfect blend of urban convenience and suburban charm, then look no further than this exquisite property. With a rooftop terrace offering stunning views of the bustling cityscape, you can immerse yourself in the vibrant energy of urban living while enjoying top-rated restaurants, shopping, and entertainment just steps away. However, if you prefer a more tranquil setting, the large backyard of this well-maintained estate provides the ideal space for outdoor gatherings, surrounded by top-rated schools and parks for a sense of community and serenity. Additionally, the original hardwood floors, cozy fireplace, and beautifully landscaped garden offer a touch of nostalgia and warmth, allowing you to unwind in a peaceful oasis just a short walk away from local shops, cafes, and galleries. Whether you crave the excitement of city life or the tranquility of suburbia, this property seamlessly combines the best of both worlds to cater to your unique urban preferences.\n",
      "Sources: ['0', '1', '3']\n"
     ]
    }
   ],
   "source": [
    "PROMPT_TEMPLATE = \"\"\"\n",
    "Answer the question based only on the following context:\n",
    "\n",
    "{context}\n",
    "\n",
    "---\n",
    "\n",
    "Given the context provided above, craft a response that not only answers the question {question}, but also ensures that your explanation is distinct, captivating, and customized to align with the specified preferences. Strive to present your insights in a manner that resonates with the audience's interests and requirements\n",
    "\"\"\"\n",
    "\n",
    "query_text = \"How urban do you want your neighborhood to be?\"\n",
    "\n",
    "# Prepare the DB.\n",
    "embedding_function = OpenAIEmbeddings()\n",
    "db = Chroma(persist_directory=CHROMA_PATH, embedding_function=embedding_function)\n",
    "\n",
    "# Search the DB.\n",
    "results = db.similarity_search_with_relevance_scores(query_text, k=3)\n",
    "if len(results) == 0 or results[0][1] < 0.7:\n",
    "    print(f\"Unable to find matching results.\")\n",
    "else:\n",
    "    context_text = \"\\n\\n---\\n\\n\".join([doc.page_content for doc, _score in results])\n",
    "    prompt_template = ChatPromptTemplate.from_template(PROMPT_TEMPLATE)\n",
    "    prompt = prompt_template.format(context=context_text, question=query_text)\n",
    "    print(f\"Generated Prompt:\\n{prompt}\")\n",
    "\n",
    "    model = ChatOpenAI()\n",
    "    response_text = model.predict(prompt)\n",
    "\n",
    "    sources = [doc.metadata.get(\"id\", None) for doc, _score in results]\n",
    "    formatted_response = f\"Response: {response_text}\\nSources: {sources}\"\n",
    "    print(formatted_response)"
   ]
  },
  {
   "cell_type": "code",
   "execution_count": null,
   "id": "b6f435c6",
   "metadata": {},
   "outputs": [],
   "source": []
  },
  {
   "cell_type": "code",
   "execution_count": null,
   "id": "803d8859",
   "metadata": {},
   "outputs": [],
   "source": []
  }
 ],
 "metadata": {
  "kernelspec": {
   "display_name": "Python 3 (ipykernel)",
   "language": "python",
   "name": "python3"
  },
  "language_info": {
   "codemirror_mode": {
    "name": "ipython",
    "version": 3
   },
   "file_extension": ".py",
   "mimetype": "text/x-python",
   "name": "python",
   "nbconvert_exporter": "python",
   "pygments_lexer": "ipython3",
   "version": "3.10.11"
  }
 },
 "nbformat": 4,
 "nbformat_minor": 5
}
